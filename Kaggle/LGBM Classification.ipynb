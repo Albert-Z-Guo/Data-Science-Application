{
 "cells": [
  {
   "cell_type": "markdown",
   "metadata": {},
   "source": [
    "# Use LGBM Algorithm to Classify Fraudulent Clicks on Ads"
   ]
  },
  {
   "cell_type": "code",
   "execution_count": 1,
   "metadata": {},
   "outputs": [],
   "source": [
    "import numpy as np\n",
    "import pandas as pd\n",
    "import time\n",
    "start_time = time.time()"
   ]
  },
  {
   "cell_type": "code",
   "execution_count": 2,
   "metadata": {},
   "outputs": [
    {
     "name": "stdout",
     "output_type": "stream",
     "text": [
      "43\n"
     ]
    },
    {
     "data": {
      "text/plain": [
       "['app',\n",
       " 'app_channel_unicount',\n",
       " 'appfreq_ip',\n",
       " 'appfreq_ip_dow_channel',\n",
       " 'channel',\n",
       " 'channelfreq_ip',\n",
       " 'channelfreq_ip_app',\n",
       " 'channelfreq_ip_device',\n",
       " 'channelfreq_ip_device_app',\n",
       " 'channelfreq_ip_device_os',\n",
       " 'channelfreq_ip_dow',\n",
       " 'channelfreq_ip_dow_app',\n",
       " 'channelfreq_ip_dow_device',\n",
       " 'channelfreq_ip_dow_hour',\n",
       " 'channelfreq_ip_dow_hour_minute',\n",
       " 'channelfreq_ip_dow_hour_os_app',\n",
       " 'channelfreq_ip_dow_os',\n",
       " 'channelfreq_ip_dow_os_app',\n",
       " 'channelfreq_ip_hour_app',\n",
       " 'channelfreq_ip_hour_device',\n",
       " 'channelfreq_ip_hour_os',\n",
       " 'channelfreq_ip_os',\n",
       " 'channelfreq_ip_os_app',\n",
       " 'device',\n",
       " 'devicefreq_ip',\n",
       " 'devicefreq_ip_app',\n",
       " 'devicefreq_ip_dow_channel',\n",
       " 'devicefreq_ip_hour',\n",
       " 'devicefreq_ip_os_channel',\n",
       " 'dow',\n",
       " 'dowfreq_ip',\n",
       " 'duration_in_hours',\n",
       " 'hour',\n",
       " 'hour_working',\n",
       " 'ip_app_channel_unicount',\n",
       " 'ip_app_unicount',\n",
       " 'ip_channel_unicount',\n",
       " 'ip_device_unicount',\n",
       " 'ip_dow_unicount',\n",
       " 'os',\n",
       " 'osfreq_ip',\n",
       " 'osfreq_ip_channel',\n",
       " 'osfreq_ip_hour_channel']"
      ]
     },
     "execution_count": 2,
     "metadata": {},
     "output_type": "execute_result"
    }
   ],
   "source": [
    "# define data types to save memory while loading\n",
    "dtypes_new = {            \n",
    "                'app'                               : 'uint16',\n",
    "                'app_channel_unicount'              : 'uint32',\n",
    "                'appfreq_ip'                        : 'uint32',\n",
    "                'appfreq_ip_dow_channel'            : 'uint16',\n",
    "                'channel'                           : 'uint16',\n",
    "                'channelfreq_ip'                    : 'uint32',\n",
    "                'channelfreq_ip_app'                : 'uint32',\n",
    "                'channelfreq_ip_device'             : 'uint32',\n",
    "                'channelfreq_ip_device_app'         : 'uint32',\n",
    "                'channelfreq_ip_device_os'          : 'uint32',\n",
    "                'channelfreq_ip_dow'                : 'uint32',\n",
    "                'channelfreq_ip_dow_app'            : 'uint16',\n",
    "                'channelfreq_ip_dow_device'         : 'uint32',\n",
    "                'channelfreq_ip_dow_hour'           : 'uint16',\n",
    "                'channelfreq_ip_dow_hour_minute'    : 'uint16',\n",
    "                'channelfreq_ip_dow_hour_os_app'    : 'uint16',\n",
    "                'channelfreq_ip_dow_os'             : 'uint16',\n",
    "                'channelfreq_ip_dow_os_app'         : 'uint16',\n",
    "                'channelfreq_ip_hour_app'           : 'uint16',\n",
    "                'channelfreq_ip_hour_device'        : 'uint16',\n",
    "                'channelfreq_ip_hour_os'            : 'uint16',\n",
    "                'channelfreq_ip_os'                 : 'uint32',\n",
    "                'channelfreq_ip_os_app'             : 'uint16',\n",
    "                'device'                            : 'uint16',\n",
    "                'devicefreq_ip'                     : 'uint32',\n",
    "                'devicefreq_ip_app'                 : 'uint32',\n",
    "                'devicefreq_ip_dow_channel'         : 'uint16',\n",
    "                'devicefreq_ip_hour'                : 'uint32',\n",
    "                'devicefreq_ip_os_channel'          : 'uint16',\n",
    "                'dow'                                : 'uint8',\n",
    "                'dowfreq_ip'                        : 'uint32',\n",
    "                'duration_in_hours'                 : 'uint16',\n",
    "                'hour'                               : 'uint8',\n",
    "                'hour_working'                       : 'uint8',\n",
    "                'ip_app_channel_unicount'           : 'uint16',\n",
    "                'ip_app_unicount'                   : 'uint32',\n",
    "                'ip_channel_unicount'               : 'uint16',\n",
    "                'ip_device_unicount'                : 'uint32',\n",
    "                'ip_dow_unicount'                   : 'uint32',\n",
    "                'os'                                : 'uint16',\n",
    "                'osfreq_ip'                         : 'uint32',\n",
    "                'osfreq_ip_channel'                 : 'uint16',\n",
    "                'osfreq_ip_hour_channel'            : 'uint16',\n",
    "}\n",
    "\n",
    "features = list(dtypes_new.keys())\n",
    "print(len(features))\n",
    "features"
   ]
  },
  {
   "cell_type": "code",
   "execution_count": 3,
   "metadata": {},
   "outputs": [],
   "source": [
    "categorical_features = ['dow']"
   ]
  },
  {
   "cell_type": "code",
   "execution_count": 4,
   "metadata": {},
   "outputs": [],
   "source": [
    "features_selected = []\n",
    "ids = ['_unicount', 'channelfreq_', 'devicefreq_', 'osfreq_', 'appfreq_']\n",
    "\n",
    "for id in ids:\n",
    "    features_selected += [str for str in features if id in str]"
   ]
  },
  {
   "cell_type": "code",
   "execution_count": 5,
   "metadata": {},
   "outputs": [
    {
     "name": "stdout",
     "output_type": "stream",
     "text": [
      "CPU times: user 7min 4s, sys: 1min 43s, total: 8min 48s\n",
      "Wall time: 5min 57s\n"
     ]
    }
   ],
   "source": [
    "%%time\n",
    "import lightgbm as lgb\n",
    "import gc\n",
    "gc.collect()\n",
    "\n",
    "X_train = pd.read_csv('X_train.csv', dtype=dtypes_new, engine='c')\n",
    "# normalize features by taking log values\n",
    "for feature in features_selected:\n",
    "    X_train[feature] = np.log2(1 + X_train[feature].values).astype(int)\n",
    "lgb_train = lgb.Dataset(X_train.values, \\\n",
    "                        label=pd.read_csv('y_train.csv', dtype=dtypes_new, header = -1, engine='c').values.flatten(), \\\n",
    "                        feature_name=features,\n",
    "                       )\n",
    "del X_train\n",
    "gc.collect()\n",
    "\n",
    "X_test = pd.read_csv('X_test.csv', dtype=dtypes_new, engine='c')\n",
    "# normalize features by taking log values\n",
    "for feature in features_selected:\n",
    "    X_test[feature] = np.log2(1 + X_test[feature].values).astype(int)\n",
    "    \n",
    "lgb_eval = lgb.Dataset(X_test.values, \\\n",
    "                        label=pd.read_csv('y_test.csv', dtype=dtypes_new, header = -1, engine='c').values.flatten(), \\\n",
    "                        reference=lgb_train, \\\n",
    "                        feature_name=features,\n",
    "                      )\n",
    "del X_test\n",
    "gc.collect()"
   ]
  },
  {
   "cell_type": "code",
   "execution_count": null,
   "metadata": {
    "scrolled": false
   },
   "outputs": [],
   "source": [
    "%%time\n",
    "params = {\n",
    "            'boosting_type': 'gbdt',\n",
    "            'tree_learner': 'data_parallel',\n",
    "            'objective': 'binary',\n",
    "            'num_leaves': 100,\n",
    "            'learning_rate': 0.1,\n",
    "            'lambda_l2': 0,  \n",
    "            'min_child_weight': 0,\n",
    "            'max_bin': 300, # max number of bins that feature values will be bucketed in\n",
    "            'is_unbalance': True,\n",
    "            'metric': 'auc',\n",
    "            'num_threads': 16,\n",
    "}\n",
    "\n",
    "gbm = lgb.train(params,\n",
    "                lgb_train,\n",
    "                num_boost_round=500,\n",
    "                valid_sets=[lgb_train, lgb_eval], \n",
    "                valid_names=['train', 'valid'], \n",
    "                learning_rates=lambda iter: round(0.1 * pow(0.995, iter), 6),\n",
    "                early_stopping_rounds = 50\n",
    "               )"
   ]
  },
  {
   "cell_type": "code",
   "execution_count": null,
   "metadata": {},
   "outputs": [],
   "source": [
    "# best train-auc so far: 0.996759\n",
    "# best valid-auc so far: 0.980228"
   ]
  },
  {
   "cell_type": "code",
   "execution_count": null,
   "metadata": {},
   "outputs": [],
   "source": [
    "%%time\n",
    "test_data_processed = pd.read_csv('test_data_processed.csv', dtype=dtypes_new)\n",
    "prediction = gbm.predict(test_data_processed, num_iteration=gbm.best_iteration)\n",
    "\n",
    "# del test_data_processed\n",
    "# gc.collect()\n",
    "\n",
    "prediction"
   ]
  },
  {
   "cell_type": "code",
   "execution_count": null,
   "metadata": {},
   "outputs": [],
   "source": [
    "import matplotlib.pyplot as plt\n",
    "%matplotlib inline\n",
    "\n",
    "fig, ax = plt.subplots(1, 1, figsize=(15,5), dpi=150)\n",
    "lgb.plot_importance(gbm, ax=ax)\n",
    "fig.savefig('feature_importance_large_training_data.png')"
   ]
  },
  {
   "cell_type": "code",
   "execution_count": null,
   "metadata": {},
   "outputs": [],
   "source": [
    "plt.figure(figsize=(6,4), dpi=100)\n",
    "\n",
    "n, bins, patches = plt.hist(prediction, 50, facecolor='g', alpha=0.75)\n",
    "\n",
    "plt.xlabel('is_attributed Probability')\n",
    "plt.ylabel('Occurance')\n",
    "plt.grid(True)\n",
    "plt.show()"
   ]
  },
  {
   "cell_type": "code",
   "execution_count": null,
   "metadata": {},
   "outputs": [],
   "source": [
    "%%time\n",
    "click_id = pd.read_csv('click_id.csv', dtype=dtypes_new, header = -1, engine='c')\n",
    "submission = pd.DataFrame({'click_id': click_id[0], 'is_attributed': prediction})\n",
    "submission.to_csv('submission.gz', compression='gzip', index=False)\n",
    "\n",
    "# del prediction\n",
    "# gc.collect()"
   ]
  },
  {
   "cell_type": "code",
   "execution_count": null,
   "metadata": {},
   "outputs": [],
   "source": [
    "# XGBoost classification with impactful features using larger training data\n",
    "submission.head(5)"
   ]
  },
  {
   "cell_type": "code",
   "execution_count": null,
   "metadata": {},
   "outputs": [],
   "source": [
    "print('total running hours: {0:.3f}'.format((time.time() - start_time)/3600))"
   ]
  },
  {
   "cell_type": "code",
   "execution_count": null,
   "metadata": {},
   "outputs": [],
   "source": [
    "# !kaggle competitions submit -c talkingdata-adtracking-fraud-detection -f submission.gz -m \"AWS LGBM with improved features\""
   ]
  },
  {
   "cell_type": "code",
   "execution_count": null,
   "metadata": {},
   "outputs": [],
   "source": []
  }
 ],
 "metadata": {
  "kernelspec": {
   "display_name": "Python 3",
   "language": "python",
   "name": "python3"
  },
  "language_info": {
   "codemirror_mode": {
    "name": "ipython",
    "version": 3
   },
   "file_extension": ".py",
   "mimetype": "text/x-python",
   "name": "python",
   "nbconvert_exporter": "python",
   "pygments_lexer": "ipython3",
   "version": "3.6.6"
  }
 },
 "nbformat": 4,
 "nbformat_minor": 2
}
