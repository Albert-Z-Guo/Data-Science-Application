{
 "cells": [
  {
   "cell_type": "markdown",
   "metadata": {},
   "source": [
    "# TalkingData AdTracking Fraud Detection Challenge\n",
    "\n",
    "## Introduction\n",
    "\n",
    "_TalkingData AdTracking Fraud Detection Challenge_ is an online competition hosted by [TalkingData](https://www.talkingdata.com/) on [Kaggle](https://www.kaggle.com/c/talkingdata-adtracking-fraud-detection), a platform for predictive modelling and analytics. In this competition, we need to identify fraudulent clicks on online Ads.\n",
    "\n",
    "On the vast landscape of the Internet, fraud risk is everywhere. For the online advertising industry, fraudulent clicks on Ads can happen at an overwhelming volume, resulting invalid Ads coverage and tremendous money waste for advertisers.\n",
    "\n",
    "The goal of this competition is to build an algorithm that predicts real Ad clicks (i.e. A user will download an app after clicking a mobile app Ad.). A dataset covering approximately 200 million clicks over 4 days is provided."
   ]
  },
  {
   "cell_type": "markdown",
   "metadata": {},
   "source": [
    "## Data"
   ]
  },
  {
   "cell_type": "code",
   "execution_count": 1,
   "metadata": {},
   "outputs": [],
   "source": [
    "import numpy as np\n",
    "import pandas as pd\n",
    "import dask.dataframe as dd\n",
    "import matplotlib.pyplot as plt\n",
    "%matplotlib inline\n",
    "import time\n",
    "import gc"
   ]
  },
  {
   "cell_type": "markdown",
   "metadata": {},
   "source": [
    "Before loading the dataset, we can define the data types to save memory. This is a common trick when working with very large dataset."
   ]
  },
  {
   "cell_type": "code",
   "execution_count": 2,
   "metadata": {},
   "outputs": [],
   "source": [
    "start_time = time.time()\n",
    "\n",
    "dtypes = {'ip': 'uint32',\n",
    "          'app': 'uint16',\n",
    "          'device': 'uint16',\n",
    "          'os': 'uint16',\n",
    "          'channel': 'uint16',\n",
    "          'is_attributed': 'uint8',\n",
    "          'click_id': 'uint32'}"
   ]
  },
  {
   "cell_type": "markdown",
   "metadata": {},
   "source": [
    "Due to the size of the entire dataset, I loaded only a subset to work on within the limit of memory."
   ]
  },
  {
   "cell_type": "code",
   "execution_count": 3,
   "metadata": {},
   "outputs": [
    {
     "name": "stdout",
     "output_type": "stream",
     "text": [
      "# of skiped data points: 104903890\n",
      "CPU times: user 28.4 s, sys: 1.93 s, total: 30.3 s\n",
      "Wall time: 28.5 s\n"
     ]
    }
   ],
   "source": [
    "%%time\n",
    "skiprows = np.sort(np.random.choice(np.arange(1, 184903891), size=184903891-1-80000000, replace=False)) # -1 excludes the header\n",
    "\n",
    "print('# of skiped data points:', 184903891-1-80000000)"
   ]
  },
  {
   "cell_type": "code",
   "execution_count": 4,
   "metadata": {},
   "outputs": [],
   "source": [
    "# %%time\n",
    "# # testing using a small subset of data\n",
    "# skiprows = np.sort(np.random.choice(np.arange(1, 184903891), size=184903891-1-50000000, replace=False)) # -1 excludes the header\n",
    "\n",
    "# print('# of skiped data points:', 184903891-1-50000000)"
   ]
  },
  {
   "cell_type": "markdown",
   "metadata": {},
   "source": [
    "To process dataset more efficiently, we can leverage Amazon Web Services (AWS)'s Elastic Compute (EC2) resources. I chose the instance type m5.4xlarge which came with 16 CPUs and 64 (GiB) Memory."
   ]
  },
  {
   "cell_type": "code",
   "execution_count": 5,
   "metadata": {},
   "outputs": [
    {
     "name": "stdout",
     "output_type": "stream",
     "text": [
      "CPU times: user 2min 23s, sys: 7.14 s, total: 2min 30s\n",
      "Wall time: 3min 5s\n"
     ]
    }
   ],
   "source": [
    "%%time\n",
    "train_data = pd.read_csv('/home/ec2-user/.kaggle/competitions/talkingdata-adtracking-fraud-detection/train.csv',\n",
    "                         usecols=['ip', 'app', 'device', 'os', 'channel', 'click_time', 'is_attributed'],\n",
    "                         skiprows=skiprows,\n",
    "                         dtype=dtypes,\n",
    "                         parse_dates=['click_time'],\n",
    "                         infer_datetime_format=True, engine='c')\n",
    "\n",
    "label = train_data['is_attributed']\n",
    "del train_data['is_attributed']\n",
    "del skiprows\n",
    "gc.collect()"
   ]
  },
  {
   "cell_type": "code",
   "execution_count": 6,
   "metadata": {},
   "outputs": [
    {
     "name": "stdout",
     "output_type": "stream",
     "text": [
      "CPU times: user 47.1 s, sys: 1.26 s, total: 48.3 s\n",
      "Wall time: 46 s\n"
     ]
    }
   ],
   "source": [
    "%%time\n",
    "test_data = pd.read_csv('/home/ec2-user/.kaggle/competitions/talkingdata-adtracking-fraud-detection/test.csv',\n",
    "                        usecols=['ip', 'app', 'device', 'os', 'channel', 'click_time', 'click_id'],\n",
    "                        dtype=dtypes,\n",
    "                        parse_dates = ['click_time'],\n",
    "                        infer_datetime_format=True, engine='c')\n",
    "\n",
    "test_data['click_id'].to_csv('click_id.csv', index=False)\n",
    "del test_data['click_id']\n",
    "gc.collect()"
   ]
  },
  {
   "cell_type": "code",
   "execution_count": 7,
   "metadata": {},
   "outputs": [
    {
     "name": "stdout",
     "output_type": "stream",
     "text": [
      "train_data size: (80000000, 6)\n",
      "test_data size: (18790469, 6)\n"
     ]
    }
   ],
   "source": [
    "train_data_len = train_data.shape[0]\n",
    "\n",
    "print('train_data size:', train_data.shape)\n",
    "print('test_data size:', test_data.shape)"
   ]
  },
  {
   "cell_type": "code",
   "execution_count": 8,
   "metadata": {},
   "outputs": [
    {
     "name": "stdout",
     "output_type": "stream",
     "text": [
      "<class 'pandas.core.frame.DataFrame'>\n",
      "RangeIndex: 80000000 entries, 0 to 79999999\n",
      "Data columns (total 6 columns):\n",
      "ip            uint32\n",
      "app           uint16\n",
      "device        uint16\n",
      "os            uint16\n",
      "channel       uint16\n",
      "click_time    datetime64[ns]\n",
      "dtypes: datetime64[ns](1), uint16(4), uint32(1)\n",
      "memory usage: 1.5 GB\n"
     ]
    }
   ],
   "source": [
    "train_data.info()"
   ]
  },
  {
   "cell_type": "code",
   "execution_count": 9,
   "metadata": {},
   "outputs": [
    {
     "data": {
      "text/html": [
       "<div>\n",
       "<style scoped>\n",
       "    .dataframe tbody tr th:only-of-type {\n",
       "        vertical-align: middle;\n",
       "    }\n",
       "\n",
       "    .dataframe tbody tr th {\n",
       "        vertical-align: top;\n",
       "    }\n",
       "\n",
       "    .dataframe thead th {\n",
       "        text-align: right;\n",
       "    }\n",
       "</style>\n",
       "<table border=\"1\" class=\"dataframe\">\n",
       "  <thead>\n",
       "    <tr style=\"text-align: right;\">\n",
       "      <th></th>\n",
       "      <th>ip</th>\n",
       "      <th>app</th>\n",
       "      <th>device</th>\n",
       "      <th>os</th>\n",
       "      <th>channel</th>\n",
       "      <th>click_time</th>\n",
       "    </tr>\n",
       "  </thead>\n",
       "  <tbody>\n",
       "    <tr>\n",
       "      <th>0</th>\n",
       "      <td>83230</td>\n",
       "      <td>3</td>\n",
       "      <td>1</td>\n",
       "      <td>13</td>\n",
       "      <td>379</td>\n",
       "      <td>2017-11-06 14:32:21</td>\n",
       "    </tr>\n",
       "    <tr>\n",
       "      <th>1</th>\n",
       "      <td>17357</td>\n",
       "      <td>3</td>\n",
       "      <td>1</td>\n",
       "      <td>19</td>\n",
       "      <td>379</td>\n",
       "      <td>2017-11-06 14:33:34</td>\n",
       "    </tr>\n",
       "    <tr>\n",
       "      <th>2</th>\n",
       "      <td>35810</td>\n",
       "      <td>3</td>\n",
       "      <td>1</td>\n",
       "      <td>13</td>\n",
       "      <td>379</td>\n",
       "      <td>2017-11-06 14:34:12</td>\n",
       "    </tr>\n",
       "    <tr>\n",
       "      <th>3</th>\n",
       "      <td>18787</td>\n",
       "      <td>3</td>\n",
       "      <td>1</td>\n",
       "      <td>16</td>\n",
       "      <td>379</td>\n",
       "      <td>2017-11-06 14:36:26</td>\n",
       "    </tr>\n",
       "    <tr>\n",
       "      <th>4</th>\n",
       "      <td>165970</td>\n",
       "      <td>3</td>\n",
       "      <td>1</td>\n",
       "      <td>13</td>\n",
       "      <td>379</td>\n",
       "      <td>2017-11-06 14:38:10</td>\n",
       "    </tr>\n",
       "  </tbody>\n",
       "</table>\n",
       "</div>"
      ],
      "text/plain": [
       "       ip  app  device  os  channel          click_time\n",
       "0   83230    3       1  13      379 2017-11-06 14:32:21\n",
       "1   17357    3       1  19      379 2017-11-06 14:33:34\n",
       "2   35810    3       1  13      379 2017-11-06 14:34:12\n",
       "3   18787    3       1  16      379 2017-11-06 14:36:26\n",
       "4  165970    3       1  13      379 2017-11-06 14:38:10"
      ]
     },
     "execution_count": 9,
     "metadata": {},
     "output_type": "execute_result"
    }
   ],
   "source": [
    "train_data.head(5)"
   ]
  },
  {
   "cell_type": "markdown",
   "metadata": {},
   "source": [
    "Since the dataset is highly unbalanced, it is important that we measure the unbalanced ratio for further use in classification model training."
   ]
  },
  {
   "cell_type": "code",
   "execution_count": 10,
   "metadata": {},
   "outputs": [
    {
     "name": "stdout",
     "output_type": "stream",
     "text": [
      "attributed: 79802443\n",
      "not attributed: 197557\n",
      "attributed ratio: 0.002476\n",
      "positive label weight benchmark: 403.946421\n"
     ]
    }
   ],
   "source": [
    "is_attributed_value_counts = label.value_counts()\n",
    "attributed_ratio = is_attributed_value_counts[1]/is_attributed_value_counts[0]\n",
    "\n",
    "print('attributed:', is_attributed_value_counts[0])\n",
    "print('not attributed:', is_attributed_value_counts[1])\n",
    "print('attributed ratio: {0:.6f}'.format(attributed_ratio))\n",
    "print('positive label weight benchmark: {0:.6f}'.format(1/attributed_ratio))"
   ]
  },
  {
   "cell_type": "code",
   "execution_count": 11,
   "metadata": {},
   "outputs": [
    {
     "name": "stdout",
     "output_type": "stream",
     "text": [
      "<class 'pandas.core.frame.DataFrame'>\n",
      "RangeIndex: 18790469 entries, 0 to 18790468\n",
      "Data columns (total 6 columns):\n",
      "ip            uint32\n",
      "app           uint16\n",
      "device        uint16\n",
      "os            uint16\n",
      "channel       uint16\n",
      "click_time    datetime64[ns]\n",
      "dtypes: datetime64[ns](1), uint16(4), uint32(1)\n",
      "memory usage: 358.4 MB\n"
     ]
    }
   ],
   "source": [
    "test_data.info()"
   ]
  },
  {
   "cell_type": "code",
   "execution_count": 12,
   "metadata": {},
   "outputs": [
    {
     "data": {
      "text/html": [
       "<div>\n",
       "<style scoped>\n",
       "    .dataframe tbody tr th:only-of-type {\n",
       "        vertical-align: middle;\n",
       "    }\n",
       "\n",
       "    .dataframe tbody tr th {\n",
       "        vertical-align: top;\n",
       "    }\n",
       "\n",
       "    .dataframe thead th {\n",
       "        text-align: right;\n",
       "    }\n",
       "</style>\n",
       "<table border=\"1\" class=\"dataframe\">\n",
       "  <thead>\n",
       "    <tr style=\"text-align: right;\">\n",
       "      <th></th>\n",
       "      <th>ip</th>\n",
       "      <th>app</th>\n",
       "      <th>device</th>\n",
       "      <th>os</th>\n",
       "      <th>channel</th>\n",
       "      <th>click_time</th>\n",
       "    </tr>\n",
       "  </thead>\n",
       "  <tbody>\n",
       "    <tr>\n",
       "      <th>0</th>\n",
       "      <td>5744</td>\n",
       "      <td>9</td>\n",
       "      <td>1</td>\n",
       "      <td>3</td>\n",
       "      <td>107</td>\n",
       "      <td>2017-11-10 04:00:00</td>\n",
       "    </tr>\n",
       "    <tr>\n",
       "      <th>1</th>\n",
       "      <td>119901</td>\n",
       "      <td>9</td>\n",
       "      <td>1</td>\n",
       "      <td>3</td>\n",
       "      <td>466</td>\n",
       "      <td>2017-11-10 04:00:00</td>\n",
       "    </tr>\n",
       "    <tr>\n",
       "      <th>2</th>\n",
       "      <td>72287</td>\n",
       "      <td>21</td>\n",
       "      <td>1</td>\n",
       "      <td>19</td>\n",
       "      <td>128</td>\n",
       "      <td>2017-11-10 04:00:00</td>\n",
       "    </tr>\n",
       "    <tr>\n",
       "      <th>3</th>\n",
       "      <td>78477</td>\n",
       "      <td>15</td>\n",
       "      <td>1</td>\n",
       "      <td>13</td>\n",
       "      <td>111</td>\n",
       "      <td>2017-11-10 04:00:00</td>\n",
       "    </tr>\n",
       "    <tr>\n",
       "      <th>4</th>\n",
       "      <td>123080</td>\n",
       "      <td>12</td>\n",
       "      <td>1</td>\n",
       "      <td>13</td>\n",
       "      <td>328</td>\n",
       "      <td>2017-11-10 04:00:00</td>\n",
       "    </tr>\n",
       "  </tbody>\n",
       "</table>\n",
       "</div>"
      ],
      "text/plain": [
       "       ip  app  device  os  channel          click_time\n",
       "0    5744    9       1   3      107 2017-11-10 04:00:00\n",
       "1  119901    9       1   3      466 2017-11-10 04:00:00\n",
       "2   72287   21       1  19      128 2017-11-10 04:00:00\n",
       "3   78477   15       1  13      111 2017-11-10 04:00:00\n",
       "4  123080   12       1  13      328 2017-11-10 04:00:00"
      ]
     },
     "execution_count": 12,
     "metadata": {},
     "output_type": "execute_result"
    }
   ],
   "source": [
    "test_data.head(5)"
   ]
  },
  {
   "cell_type": "code",
   "execution_count": 13,
   "metadata": {},
   "outputs": [
    {
     "name": "stdout",
     "output_type": "stream",
     "text": [
      "<class 'pandas.core.frame.DataFrame'>\n",
      "Int64Index: 98790469 entries, 0 to 18790468\n",
      "Data columns (total 6 columns):\n",
      "ip            uint32\n",
      "app           uint16\n",
      "device        uint16\n",
      "os            uint16\n",
      "channel       uint16\n",
      "click_time    datetime64[ns]\n",
      "dtypes: datetime64[ns](1), uint16(4), uint32(1)\n",
      "memory usage: 2.6 GB\n",
      "CPU times: user 2.32 s, sys: 1.69 s, total: 4.01 s\n",
      "Wall time: 968 ms\n"
     ]
    }
   ],
   "source": [
    "%%time\n",
    "full_data = pd.concat([train_data, test_data])\n",
    "\n",
    "del train_data\n",
    "del test_data\n",
    "gc.collect()\n",
    "\n",
    "full_data.info()"
   ]
  },
  {
   "cell_type": "markdown",
   "metadata": {},
   "source": [
    "## Feature Engineering"
   ]
  },
  {
   "cell_type": "code",
   "execution_count": 14,
   "metadata": {},
   "outputs": [
    {
     "name": "stdout",
     "output_type": "stream",
     "text": [
      "CPU times: user 15 s, sys: 5.45 s, total: 20.5 s\n",
      "Wall time: 12.2 s\n"
     ]
    }
   ],
   "source": [
    "%%time\n",
    "full_data['minute'] = pd.to_datetime(full_data.click_time).dt.minute.astype('uint8')\n",
    "full_data['hour'] = pd.to_datetime(full_data.click_time).dt.hour.astype('uint8')\n",
    "# full_data['day'] = pd.to_datetime(full_data.click_time).dt.day.astype('uint8')\n",
    "# full_data['month'] = pd.to_datetime(full_data.click_time).dt.month.astype('uint8')\n",
    "full_data['dow']  = pd.to_datetime(full_data.click_time).dt.dayofweek.astype('uint8')\n",
    "# full_data['doy']  = pd.to_datetime(full_data.click_time).dt.dayofyear.astype('uint32')"
   ]
  },
  {
   "cell_type": "code",
   "execution_count": 15,
   "metadata": {},
   "outputs": [
    {
     "name": "stdout",
     "output_type": "stream",
     "text": [
      "minute set: {0, 1, 2, 3, 4, 5, 6, 7, 8, 9, 10, 11, 12, 13, 14, 15, 16, 17, 18, 19, 20, 21, 22, 23, 24, 25, 26, 27, 28, 29, 30, 31, 32, 33, 34, 35, 36, 37, 38, 39, 40, 41, 42, 43, 44, 45, 46, 47, 48, 49, 50, 51, 52, 53, 54, 55, 56, 57, 58, 59}\n",
      "hour set: {0, 1, 2, 3, 4, 5, 6, 7, 8, 9, 10, 11, 12, 13, 14, 15, 16, 17, 18, 19, 20, 21, 22, 23}\n",
      "dow set: {0, 1, 2, 3, 4}\n",
      "CPU times: user 6.03 s, sys: 900 ms, total: 6.93 s\n",
      "Wall time: 5.61 s\n"
     ]
    }
   ],
   "source": [
    "%%time\n",
    "print('minute set:', set(full_data['minute']))\n",
    "print('hour set:', set(full_data['hour']))\n",
    "# print('day set:', set(full_data['day']))\n",
    "# print('month set:', set(full_data['month']))\n",
    "print('dow set:', set(full_data['dow']))\n",
    "# print('doy set:', set(full_data['doy']))"
   ]
  },
  {
   "cell_type": "code",
   "execution_count": 16,
   "metadata": {},
   "outputs": [],
   "source": [
    "# %%time\n",
    "# # divide hour range to 4 sections\n",
    "# full_data['hour_1'] = full_data['hour'].apply(lambda x: 1 if x >= 0 and x <= 6  else 0).astype('uint8')\n",
    "# full_data['hour_2'] = full_data['hour'].apply(lambda x: 1 if x > 6 and x <= 12 else 0).astype('uint8')\n",
    "# full_data['hour_3'] = full_data['hour'].apply(lambda x: 1 if x > 12 and x <= 18 else 0).astype('uint8')\n",
    "# full_data['hour_4'] = full_data['hour'].apply(lambda x: 1 if x > 18 and x <= 23 else 0).astype('uint8')"
   ]
  },
  {
   "cell_type": "code",
   "execution_count": 17,
   "metadata": {},
   "outputs": [
    {
     "name": "stdout",
     "output_type": "stream",
     "text": [
      "CPU times: user 23.7 s, sys: 2.3 s, total: 26 s\n",
      "Wall time: 25.9 s\n"
     ]
    }
   ],
   "source": [
    "%%time\n",
    "# # divide day range to 2 sections\n",
    "full_data['hour_working'] = full_data['hour'].apply(lambda x: 1 if x >= 9 and x <= 18 else 0).astype('uint8')\n",
    "# full_data['hour_off_working'] = full_data['hour_working'].apply(lambda x: 0 if x == 1 else 1).astype('uint8')"
   ]
  },
  {
   "cell_type": "code",
   "execution_count": 18,
   "metadata": {},
   "outputs": [
    {
     "data": {
      "text/plain": [
       "app                     uint16\n",
       "channel                 uint16\n",
       "click_time      datetime64[ns]\n",
       "device                  uint16\n",
       "dow                      uint8\n",
       "hour                     uint8\n",
       "hour_working             uint8\n",
       "ip                      uint32\n",
       "minute                   uint8\n",
       "os                      uint16\n",
       "dtype: object"
      ]
     },
     "execution_count": 18,
     "metadata": {},
     "output_type": "execute_result"
    }
   ],
   "source": [
    "full_data.dtypes.sort_index()"
   ]
  },
  {
   "cell_type": "code",
   "execution_count": 19,
   "metadata": {},
   "outputs": [],
   "source": [
    "# referneces: \n",
    "# https://docs.scipy.org/doc/numpy/reference/generated/numpy.unique.html\n",
    "# https://docs.scipy.org/doc/numpy-1.14.0/reference/generated/numpy.ravel_multi_index.html\n",
    "\n",
    "# add counts of selected columns\n",
    "def col_counts(df, cols):\n",
    "    np_arr = df[cols].values\n",
    "    unique, unique_inverse, unique_counts = np.unique(np.ravel_multi_index(np_arr.T, np_arr.max(0) + 1), \\\n",
    "                                         return_inverse=True, return_counts=True)\n",
    "    \n",
    "    new_col = \"_\".join(cols)+'_unicount'\n",
    "    df[new_col] = unique_counts[unique_inverse]\n",
    "    \n",
    "    # use appropriate data type\n",
    "    max_value = df[new_col].max()\n",
    "    if max_value > 65536:\n",
    "        df[new_col] = df[new_col].astype('uint32')\n",
    "    else:\n",
    "        df[new_col] = df[new_col].astype('uint16')"
   ]
  },
  {
   "cell_type": "code",
   "execution_count": 20,
   "metadata": {},
   "outputs": [],
   "source": [
    "# refernce: https://pandas.pydata.org/pandas-docs/stable/generated/pandas.DataFrame.groupby.html\n",
    "# add frequencies of selected columns\n",
    "def col_freq(df, col, cols):\n",
    "    new_col = col + 'freq_' + \"_\".join(cols)\n",
    "    tmp = df[cols + [col]].groupby(by=cols)[col].count().reset_index().rename(index=str, columns={col: new_col})\n",
    "    \n",
    "    # use appropriate data type\n",
    "    max_value = tmp[new_col].max()\n",
    "    if max_value > 65536:\n",
    "        tmp[new_col] = tmp[new_col].astype('uint32')\n",
    "    else:\n",
    "        tmp[new_col] = tmp[new_col].astype('uint16')\n",
    "    \n",
    "    return tmp"
   ]
  },
  {
   "cell_type": "code",
   "execution_count": 21,
   "metadata": {},
   "outputs": [
    {
     "name": "stdout",
     "output_type": "stream",
     "text": [
      "CPU times: user 4min 23s, sys: 52.2 s, total: 5min 15s\n",
      "Wall time: 3min 42s\n"
     ]
    }
   ],
   "source": [
    "%%time\n",
    "# unique counts of ip and app combination\n",
    "col_counts(full_data, ['ip', 'app'])\n",
    "\n",
    "# unique counts of ip, app, and channel combination\n",
    "col_counts(full_data, ['ip', 'app', 'channel'])\n",
    "\n",
    "# unique counts of ip, day, and hour combination\n",
    "col_counts(full_data, ['ip', 'app', 'os'])\n",
    "\n",
    "# unique counts of ip and channel combination\n",
    "col_counts(full_data, ['ip', 'channel'])\n",
    "\n",
    "# unique counts of ip and device combination\n",
    "col_counts(full_data, ['ip', 'device'])\n",
    "\n",
    "# unique counts of app and channel combination\n",
    "col_counts(full_data, ['app', 'channel'])\n",
    "gc.collect()"
   ]
  },
  {
   "cell_type": "code",
   "execution_count": 22,
   "metadata": {},
   "outputs": [
    {
     "name": "stdout",
     "output_type": "stream",
     "text": [
      "CPU times: user 4min 37s, sys: 4min 41s, total: 9min 19s\n",
      "Wall time: 3min 38s\n"
     ]
    }
   ],
   "source": [
    "%%time\n",
    "# count number of day-of-week-occurances per ip\n",
    "full_data = full_data.merge(col_freq(full_data, 'dow', ['ip']), on=['ip'], how='left', copy=False)\n",
    "\n",
    "# count number of apps per ip\n",
    "full_data = full_data.merge(col_freq(full_data, 'app', ['ip']), on=['ip'], how='left', copy=False)\n",
    "\n",
    "# count number of app per day of week per channel clicks per ip\n",
    "full_data = full_data.merge(col_freq(full_data, 'app', ['ip', 'dow', 'channel']), \\\n",
    "                            on=['ip', 'dow', 'channel'], how='left', copy=False)\n",
    "gc.collect()"
   ]
  },
  {
   "cell_type": "code",
   "execution_count": 23,
   "metadata": {},
   "outputs": [
    {
     "name": "stdout",
     "output_type": "stream",
     "text": [
      "CPU times: user 9min 16s, sys: 12min 38s, total: 21min 55s\n",
      "Wall time: 7min 23s\n"
     ]
    }
   ],
   "source": [
    "%%time\n",
    "# count number of channel clicks per ip\n",
    "full_data = full_data.merge(col_freq(full_data, 'channel', ['ip']), on=['ip'], how='left', copy=False)\n",
    "\n",
    "# count number of channel clicks per ip per app\n",
    "full_data = full_data.merge(col_freq(full_data, 'channel', ['ip', 'app']), on=['ip', 'app'], how='left', copy=False)\n",
    "\n",
    "# count number of channel clicks per ip per device\n",
    "full_data = full_data.merge(col_freq(full_data, 'channel', ['ip', 'device']), on=['ip', 'device'], how='left', copy=False)\n",
    "gc.collect()\n",
    "\n",
    "# count number of channel clicks per ip per day of week per app\n",
    "full_data = full_data.merge(col_freq(full_data, 'channel', ['ip', 'device', 'app']), \\\n",
    "                            on=['ip', 'device', 'app'], how='left', copy=False)\n",
    "\n",
    "# count number of channel clicks per ip per device per os\n",
    "full_data = full_data.merge(col_freq(full_data, 'channel', ['ip', 'device', 'os']), \\\n",
    "                            on=['ip', 'device', 'os'], how='left', copy=False)\n",
    "gc.collect()"
   ]
  },
  {
   "cell_type": "code",
   "execution_count": 24,
   "metadata": {},
   "outputs": [
    {
     "name": "stdout",
     "output_type": "stream",
     "text": [
      "CPU times: user 7min 56s, sys: 14min 13s, total: 22min 10s\n",
      "Wall time: 6min 27s\n"
     ]
    }
   ],
   "source": [
    "%%time\n",
    "# count number of channel clicks per ip per day of week\n",
    "full_data = full_data.merge(col_freq(full_data, 'channel', ['ip', 'dow']), on=['ip', 'dow'], how='left', copy=False)\n",
    "\n",
    "# count number of channel clicks per ip per day of week per app\n",
    "full_data = full_data.merge(col_freq(full_data, 'channel', ['ip', 'dow', 'app']), \\\n",
    "                            on=['ip', 'dow', 'app'], how='left', copy=False)\n",
    "gc.collect()\n",
    "\n",
    "# count number of channel clicks per ip per day of week per device\n",
    "full_data = full_data.merge(col_freq(full_data, 'channel', ['ip', 'dow', 'device']), \\\n",
    "                            on=['ip', 'dow', 'device'], how='left', copy=False)\n",
    "\n",
    "# count number of channel clicks per ip per day of week per hour\n",
    "full_data = full_data.merge(col_freq(full_data, 'channel', ['ip', 'dow', 'hour']), \\\n",
    "                            on=['ip', 'dow', 'hour'], how='left', copy=False)\n",
    "gc.collect()"
   ]
  },
  {
   "cell_type": "code",
   "execution_count": 25,
   "metadata": {},
   "outputs": [
    {
     "name": "stdout",
     "output_type": "stream",
     "text": [
      "CPU times: user 12min 14s, sys: 19min 27s, total: 31min 41s\n",
      "Wall time: 10min 32s\n"
     ]
    }
   ],
   "source": [
    "%%time\n",
    "# count number of channel clicks per ip per day of week per hour per minute\n",
    "full_data = full_data.merge(col_freq(full_data, 'channel', ['ip', 'dow', 'hour', 'minute']), \\\n",
    "                            on=['ip', 'dow', 'hour', 'minute'], how='left', copy=False)\n",
    "\n",
    "# count number of channel clicks per ip per day of week per hour per os per app\n",
    "full_data = full_data.merge(col_freq(full_data, 'channel', ['ip', 'dow', 'hour', 'os', 'app']), \\\n",
    "                            on=['ip', 'dow', 'hour', 'os', 'app'], how='left', copy=False)\n",
    "gc.collect()\n",
    "\n",
    "# count number of channel clicks per ip per day of week per os\n",
    "full_data = full_data.merge(col_freq(full_data, 'channel', ['ip', 'dow', 'os']), \\\n",
    "                            on=['ip', 'dow', 'os'], how='left', copy=False)\n",
    "\n",
    "# count number of channel clicks per ip per day of week per os per app\n",
    "full_data = full_data.merge(col_freq(full_data, 'channel', ['ip', 'dow', 'os', 'app']), \\\n",
    "                            on=['ip', 'dow', 'os', 'app'], how='left', copy=False)\n",
    "gc.collect()"
   ]
  },
  {
   "cell_type": "code",
   "execution_count": 26,
   "metadata": {},
   "outputs": [
    {
     "name": "stdout",
     "output_type": "stream",
     "text": [
      "CPU times: user 15min 37s, sys: 9min 43s, total: 25min 21s\n",
      "Wall time: 14min 46s\n"
     ]
    }
   ],
   "source": [
    "%%time\n",
    "# count number of hours between the earliset and latest click times\n",
    "tmp = full_data[['ip', 'click_time']].groupby(by=['ip'])['click_time'].max().reset_index()\\\n",
    ".rename(index=str, columns={'click_time': 'click_time_max'})\n",
    "\n",
    "full_data = full_data.merge(tmp, on=['ip'], how='left')\n",
    "del tmp\n",
    "gc.collect()\n",
    "\n",
    "tmp2 = full_data[['ip', 'click_time']].groupby(by=['ip'])['click_time'].min().reset_index()\\\n",
    ".rename(index=str, columns={'click_time': 'click_time_min'})\n",
    "\n",
    "full_data = full_data.merge(tmp2, on=['ip'], how='left')\n",
    "del tmp2\n",
    "gc.collect()\n",
    "\n",
    "full_data['duration'] = full_data['click_time_max'] - full_data['click_time_min']\n",
    "del full_data['click_time_max']\n",
    "del full_data['click_time_min']\n",
    "\n",
    "full_data['duration_in_hours'] = full_data['duration'].apply(lambda x: x.seconds/60).round().astype('uint16')\n",
    "del full_data['duration']\n",
    "del full_data['click_time']\n",
    "gc.collect()"
   ]
  },
  {
   "cell_type": "code",
   "execution_count": 27,
   "metadata": {},
   "outputs": [
    {
     "name": "stdout",
     "output_type": "stream",
     "text": [
      "CPU times: user 14min 6s, sys: 29min 21s, total: 43min 27s\n",
      "Wall time: 11min 32s\n"
     ]
    }
   ],
   "source": [
    "%%time\n",
    "# count number of channel clicks per ip per hour per app\n",
    "full_data = full_data.merge(col_freq(full_data, 'channel', ['ip', 'hour', 'app']), \\\n",
    "                            on=['ip', 'hour', 'app'], how='left', copy=False)\n",
    "\n",
    "# count number of channel clicks per ip per hour per device\n",
    "full_data = full_data.merge(col_freq(full_data, 'channel', ['ip', 'hour', 'device']), \\\n",
    "                            on=['ip', 'hour', 'device'], how='left', copy=False)\n",
    "gc.collect()\n",
    "\n",
    "# count number of channel clicks per ip per hour per os\n",
    "full_data = full_data.merge(col_freq(full_data, 'channel', ['ip', 'hour', 'os']), \\\n",
    "                            on=['ip', 'hour', 'os'], how='left', copy=False)\n",
    "\n",
    "# count number of channel clicks per ip per os\n",
    "full_data = full_data.merge(col_freq(full_data, 'channel', ['ip', 'os']), \\\n",
    "                            on=['ip', 'os'], how='left', copy=False)\n",
    "gc.collect()\n",
    "\n",
    "# count number of channel clicks per ip per os per app\n",
    "full_data = full_data.merge(col_freq(full_data, 'channel', ['ip', 'os', 'app']), \\\n",
    "                            on=['ip', 'os', 'app'], how='left', copy=False)"
   ]
  },
  {
   "cell_type": "code",
   "execution_count": 28,
   "metadata": {},
   "outputs": [
    {
     "name": "stdout",
     "output_type": "stream",
     "text": [
      "CPU times: user 17min 49s, sys: 43min 50s, total: 1h 1min 40s\n",
      "Wall time: 14min 40s\n"
     ]
    }
   ],
   "source": [
    "%%time\n",
    "# count number of devices per ip\n",
    "full_data = full_data.merge(col_freq(full_data, 'device', ['ip']), on=['ip'], how='left', copy=False)\n",
    "gc.collect()\n",
    "\n",
    "# count number of devices per app per ip\n",
    "full_data = full_data.merge(col_freq(full_data, 'device', ['ip', 'app']), on=['ip', 'app'], how='left', copy=False)\n",
    "\n",
    "# count number of devices per day of week per channel clicks per ip\n",
    "full_data = full_data.merge(col_freq(full_data, 'device', ['ip', 'dow', 'channel']), \\\n",
    "                            on=['ip', 'dow', 'channel'], how='left', copy=False)\n",
    "gc.collect()\n",
    "\n",
    "# count number of devices per hour per ip\n",
    "full_data = full_data.merge(col_freq(full_data, 'device', ['ip', 'hour']), on=['ip', 'hour'], how='left', copy=False)\n",
    "\n",
    "# count number of devices per channel clicks per ip\n",
    "full_data = full_data.merge(col_freq(full_data, 'device', ['ip', 'os', 'channel']), \\\n",
    "                            on=['ip', 'os', 'channel'], how='left', copy=False)\n",
    "gc.collect()"
   ]
  },
  {
   "cell_type": "code",
   "execution_count": 29,
   "metadata": {},
   "outputs": [
    {
     "name": "stdout",
     "output_type": "stream",
     "text": [
      "CPU times: user 12min 58s, sys: 34min 37s, total: 47min 36s\n",
      "Wall time: 10min 52s\n"
     ]
    }
   ],
   "source": [
    "%%time\n",
    "# count number of os per ip\n",
    "full_data = full_data.merge(col_freq(full_data, 'os', ['ip']), on=['ip'], how='left', copy=False)\n",
    "gc.collect()\n",
    "\n",
    "# count number of os per channel clicks per ip\n",
    "full_data = full_data.merge(col_freq(full_data, 'os', ['ip', 'channel']), on=['ip', 'channel'], how='left', copy=False)\n",
    "gc.collect()\n",
    "\n",
    "# count number of os per hour per channel clicks per ip\n",
    "full_data = full_data.merge(col_freq(full_data, 'os', ['ip', 'hour', 'channel']), \\\n",
    "                            on=['ip', 'hour', 'channel'], how='left', copy=False)\n",
    "gc.collect()"
   ]
  },
  {
   "cell_type": "code",
   "execution_count": 30,
   "metadata": {
    "scrolled": false
   },
   "outputs": [
    {
     "name": "stdout",
     "output_type": "stream",
     "text": [
      "(98790469, 45)\n",
      "app                               uint16\n",
      "app_channel_unicount              uint32\n",
      "appfreq_ip                        uint32\n",
      "appfreq_ip_dow_channel            uint16\n",
      "channel                           uint16\n",
      "channelfreq_ip                    uint32\n",
      "channelfreq_ip_app                uint32\n",
      "channelfreq_ip_device             uint32\n",
      "channelfreq_ip_device_app         uint32\n",
      "channelfreq_ip_device_os          uint32\n",
      "channelfreq_ip_dow                uint32\n",
      "channelfreq_ip_dow_app            uint16\n",
      "channelfreq_ip_dow_device         uint32\n",
      "channelfreq_ip_dow_hour           uint16\n",
      "channelfreq_ip_dow_hour_minute    uint16\n",
      "channelfreq_ip_dow_hour_os_app    uint16\n",
      "channelfreq_ip_dow_os             uint16\n",
      "channelfreq_ip_dow_os_app         uint16\n",
      "channelfreq_ip_hour_app           uint16\n",
      "channelfreq_ip_hour_device        uint32\n",
      "channelfreq_ip_hour_os            uint16\n",
      "channelfreq_ip_os                 uint32\n",
      "channelfreq_ip_os_app             uint16\n",
      "device                            uint16\n",
      "devicefreq_ip                     uint32\n",
      "devicefreq_ip_app                 uint32\n",
      "devicefreq_ip_dow_channel         uint16\n",
      "devicefreq_ip_hour                uint32\n",
      "devicefreq_ip_os_channel          uint16\n",
      "dow                                uint8\n",
      "dowfreq_ip                        uint32\n",
      "duration_in_hours                 uint16\n",
      "hour                               uint8\n",
      "hour_working                       uint8\n",
      "ip                                uint32\n",
      "ip_app_channel_unicount           uint16\n",
      "ip_app_unicount                   uint32\n",
      "ip_channel_unicount               uint16\n",
      "ip_device_unicount                uint32\n",
      "ip_dow_unicount                   uint32\n",
      "minute                             uint8\n",
      "os                                uint16\n",
      "osfreq_ip                         uint32\n",
      "osfreq_ip_channel                 uint16\n",
      "osfreq_ip_hour_channel            uint16\n",
      "dtype: object\n"
     ]
    }
   ],
   "source": [
    "print(full_data.shape)\n",
    "print(full_data.dtypes.sort_index())"
   ]
  },
  {
   "cell_type": "code",
   "execution_count": 31,
   "metadata": {
    "scrolled": false
   },
   "outputs": [
    {
     "data": {
      "text/html": [
       "<div>\n",
       "<style scoped>\n",
       "    .dataframe tbody tr th:only-of-type {\n",
       "        vertical-align: middle;\n",
       "    }\n",
       "\n",
       "    .dataframe tbody tr th {\n",
       "        vertical-align: top;\n",
       "    }\n",
       "\n",
       "    .dataframe thead th {\n",
       "        text-align: right;\n",
       "    }\n",
       "</style>\n",
       "<table border=\"1\" class=\"dataframe\">\n",
       "  <thead>\n",
       "    <tr style=\"text-align: right;\">\n",
       "      <th></th>\n",
       "      <th>ip</th>\n",
       "      <th>app</th>\n",
       "      <th>device</th>\n",
       "      <th>os</th>\n",
       "      <th>channel</th>\n",
       "      <th>minute</th>\n",
       "      <th>hour</th>\n",
       "      <th>dow</th>\n",
       "      <th>hour_working</th>\n",
       "      <th>ip_app_unicount</th>\n",
       "      <th>...</th>\n",
       "      <th>channelfreq_ip_os</th>\n",
       "      <th>channelfreq_ip_os_app</th>\n",
       "      <th>devicefreq_ip</th>\n",
       "      <th>devicefreq_ip_app</th>\n",
       "      <th>devicefreq_ip_dow_channel</th>\n",
       "      <th>devicefreq_ip_hour</th>\n",
       "      <th>devicefreq_ip_os_channel</th>\n",
       "      <th>osfreq_ip</th>\n",
       "      <th>osfreq_ip_channel</th>\n",
       "      <th>osfreq_ip_hour_channel</th>\n",
       "    </tr>\n",
       "  </thead>\n",
       "  <tbody>\n",
       "    <tr>\n",
       "      <th>0</th>\n",
       "      <td>83230</td>\n",
       "      <td>3</td>\n",
       "      <td>1</td>\n",
       "      <td>13</td>\n",
       "      <td>379</td>\n",
       "      <td>32</td>\n",
       "      <td>14</td>\n",
       "      <td>0</td>\n",
       "      <td>1</td>\n",
       "      <td>2642</td>\n",
       "      <td>...</td>\n",
       "      <td>3490</td>\n",
       "      <td>675</td>\n",
       "      <td>13460</td>\n",
       "      <td>2642</td>\n",
       "      <td>12</td>\n",
       "      <td>617</td>\n",
       "      <td>55</td>\n",
       "      <td>13460</td>\n",
       "      <td>210</td>\n",
       "      <td>10</td>\n",
       "    </tr>\n",
       "    <tr>\n",
       "      <th>1</th>\n",
       "      <td>17357</td>\n",
       "      <td>3</td>\n",
       "      <td>1</td>\n",
       "      <td>19</td>\n",
       "      <td>379</td>\n",
       "      <td>33</td>\n",
       "      <td>14</td>\n",
       "      <td>0</td>\n",
       "      <td>1</td>\n",
       "      <td>2385</td>\n",
       "      <td>...</td>\n",
       "      <td>3450</td>\n",
       "      <td>663</td>\n",
       "      <td>12601</td>\n",
       "      <td>2385</td>\n",
       "      <td>16</td>\n",
       "      <td>636</td>\n",
       "      <td>65</td>\n",
       "      <td>12601</td>\n",
       "      <td>218</td>\n",
       "      <td>12</td>\n",
       "    </tr>\n",
       "    <tr>\n",
       "      <th>2</th>\n",
       "      <td>35810</td>\n",
       "      <td>3</td>\n",
       "      <td>1</td>\n",
       "      <td>13</td>\n",
       "      <td>379</td>\n",
       "      <td>34</td>\n",
       "      <td>14</td>\n",
       "      <td>0</td>\n",
       "      <td>1</td>\n",
       "      <td>994</td>\n",
       "      <td>...</td>\n",
       "      <td>1059</td>\n",
       "      <td>234</td>\n",
       "      <td>5424</td>\n",
       "      <td>994</td>\n",
       "      <td>3</td>\n",
       "      <td>629</td>\n",
       "      <td>13</td>\n",
       "      <td>5424</td>\n",
       "      <td>52</td>\n",
       "      <td>8</td>\n",
       "    </tr>\n",
       "    <tr>\n",
       "      <th>3</th>\n",
       "      <td>18787</td>\n",
       "      <td>3</td>\n",
       "      <td>1</td>\n",
       "      <td>16</td>\n",
       "      <td>379</td>\n",
       "      <td>36</td>\n",
       "      <td>14</td>\n",
       "      <td>0</td>\n",
       "      <td>1</td>\n",
       "      <td>409</td>\n",
       "      <td>...</td>\n",
       "      <td>60</td>\n",
       "      <td>18</td>\n",
       "      <td>1910</td>\n",
       "      <td>409</td>\n",
       "      <td>2</td>\n",
       "      <td>99</td>\n",
       "      <td>2</td>\n",
       "      <td>1910</td>\n",
       "      <td>34</td>\n",
       "      <td>2</td>\n",
       "    </tr>\n",
       "    <tr>\n",
       "      <th>4</th>\n",
       "      <td>165970</td>\n",
       "      <td>3</td>\n",
       "      <td>1</td>\n",
       "      <td>13</td>\n",
       "      <td>379</td>\n",
       "      <td>38</td>\n",
       "      <td>14</td>\n",
       "      <td>0</td>\n",
       "      <td>1</td>\n",
       "      <td>196</td>\n",
       "      <td>...</td>\n",
       "      <td>110</td>\n",
       "      <td>19</td>\n",
       "      <td>895</td>\n",
       "      <td>196</td>\n",
       "      <td>1</td>\n",
       "      <td>76</td>\n",
       "      <td>1</td>\n",
       "      <td>895</td>\n",
       "      <td>8</td>\n",
       "      <td>1</td>\n",
       "    </tr>\n",
       "    <tr>\n",
       "      <th>5</th>\n",
       "      <td>172522</td>\n",
       "      <td>3</td>\n",
       "      <td>1</td>\n",
       "      <td>25</td>\n",
       "      <td>379</td>\n",
       "      <td>38</td>\n",
       "      <td>14</td>\n",
       "      <td>0</td>\n",
       "      <td>1</td>\n",
       "      <td>628</td>\n",
       "      <td>...</td>\n",
       "      <td>109</td>\n",
       "      <td>16</td>\n",
       "      <td>4066</td>\n",
       "      <td>628</td>\n",
       "      <td>43</td>\n",
       "      <td>1</td>\n",
       "      <td>10</td>\n",
       "      <td>4066</td>\n",
       "      <td>106</td>\n",
       "      <td>1</td>\n",
       "    </tr>\n",
       "    <tr>\n",
       "      <th>6</th>\n",
       "      <td>210962</td>\n",
       "      <td>3</td>\n",
       "      <td>1</td>\n",
       "      <td>19</td>\n",
       "      <td>379</td>\n",
       "      <td>39</td>\n",
       "      <td>14</td>\n",
       "      <td>0</td>\n",
       "      <td>1</td>\n",
       "      <td>533</td>\n",
       "      <td>...</td>\n",
       "      <td>815</td>\n",
       "      <td>145</td>\n",
       "      <td>3785</td>\n",
       "      <td>533</td>\n",
       "      <td>3</td>\n",
       "      <td>289</td>\n",
       "      <td>15</td>\n",
       "      <td>3785</td>\n",
       "      <td>44</td>\n",
       "      <td>1</td>\n",
       "    </tr>\n",
       "    <tr>\n",
       "      <th>7</th>\n",
       "      <td>124979</td>\n",
       "      <td>3</td>\n",
       "      <td>1</td>\n",
       "      <td>18</td>\n",
       "      <td>379</td>\n",
       "      <td>40</td>\n",
       "      <td>14</td>\n",
       "      <td>0</td>\n",
       "      <td>1</td>\n",
       "      <td>77</td>\n",
       "      <td>...</td>\n",
       "      <td>26</td>\n",
       "      <td>5</td>\n",
       "      <td>471</td>\n",
       "      <td>77</td>\n",
       "      <td>2</td>\n",
       "      <td>8</td>\n",
       "      <td>1</td>\n",
       "      <td>471</td>\n",
       "      <td>10</td>\n",
       "      <td>1</td>\n",
       "    </tr>\n",
       "    <tr>\n",
       "      <th>8</th>\n",
       "      <td>80447</td>\n",
       "      <td>3</td>\n",
       "      <td>1</td>\n",
       "      <td>19</td>\n",
       "      <td>379</td>\n",
       "      <td>40</td>\n",
       "      <td>14</td>\n",
       "      <td>0</td>\n",
       "      <td>1</td>\n",
       "      <td>422</td>\n",
       "      <td>...</td>\n",
       "      <td>409</td>\n",
       "      <td>85</td>\n",
       "      <td>2653</td>\n",
       "      <td>422</td>\n",
       "      <td>2</td>\n",
       "      <td>100</td>\n",
       "      <td>13</td>\n",
       "      <td>2653</td>\n",
       "      <td>43</td>\n",
       "      <td>3</td>\n",
       "    </tr>\n",
       "    <tr>\n",
       "      <th>9</th>\n",
       "      <td>134575</td>\n",
       "      <td>3</td>\n",
       "      <td>1</td>\n",
       "      <td>13</td>\n",
       "      <td>379</td>\n",
       "      <td>43</td>\n",
       "      <td>14</td>\n",
       "      <td>0</td>\n",
       "      <td>1</td>\n",
       "      <td>114</td>\n",
       "      <td>...</td>\n",
       "      <td>185</td>\n",
       "      <td>32</td>\n",
       "      <td>1418</td>\n",
       "      <td>114</td>\n",
       "      <td>2</td>\n",
       "      <td>149</td>\n",
       "      <td>3</td>\n",
       "      <td>1418</td>\n",
       "      <td>16</td>\n",
       "      <td>1</td>\n",
       "    </tr>\n",
       "  </tbody>\n",
       "</table>\n",
       "<p>10 rows × 45 columns</p>\n",
       "</div>"
      ],
      "text/plain": [
       "       ip  app  device  os  channel  minute  hour  dow  hour_working  \\\n",
       "0   83230    3       1  13      379      32    14    0             1   \n",
       "1   17357    3       1  19      379      33    14    0             1   \n",
       "2   35810    3       1  13      379      34    14    0             1   \n",
       "3   18787    3       1  16      379      36    14    0             1   \n",
       "4  165970    3       1  13      379      38    14    0             1   \n",
       "5  172522    3       1  25      379      38    14    0             1   \n",
       "6  210962    3       1  19      379      39    14    0             1   \n",
       "7  124979    3       1  18      379      40    14    0             1   \n",
       "8   80447    3       1  19      379      40    14    0             1   \n",
       "9  134575    3       1  13      379      43    14    0             1   \n",
       "\n",
       "   ip_app_unicount           ...            channelfreq_ip_os  \\\n",
       "0             2642           ...                         3490   \n",
       "1             2385           ...                         3450   \n",
       "2              994           ...                         1059   \n",
       "3              409           ...                           60   \n",
       "4              196           ...                          110   \n",
       "5              628           ...                          109   \n",
       "6              533           ...                          815   \n",
       "7               77           ...                           26   \n",
       "8              422           ...                          409   \n",
       "9              114           ...                          185   \n",
       "\n",
       "   channelfreq_ip_os_app  devicefreq_ip  devicefreq_ip_app  \\\n",
       "0                    675          13460               2642   \n",
       "1                    663          12601               2385   \n",
       "2                    234           5424                994   \n",
       "3                     18           1910                409   \n",
       "4                     19            895                196   \n",
       "5                     16           4066                628   \n",
       "6                    145           3785                533   \n",
       "7                      5            471                 77   \n",
       "8                     85           2653                422   \n",
       "9                     32           1418                114   \n",
       "\n",
       "   devicefreq_ip_dow_channel  devicefreq_ip_hour  devicefreq_ip_os_channel  \\\n",
       "0                         12                 617                        55   \n",
       "1                         16                 636                        65   \n",
       "2                          3                 629                        13   \n",
       "3                          2                  99                         2   \n",
       "4                          1                  76                         1   \n",
       "5                         43                   1                        10   \n",
       "6                          3                 289                        15   \n",
       "7                          2                   8                         1   \n",
       "8                          2                 100                        13   \n",
       "9                          2                 149                         3   \n",
       "\n",
       "   osfreq_ip  osfreq_ip_channel  osfreq_ip_hour_channel  \n",
       "0      13460                210                      10  \n",
       "1      12601                218                      12  \n",
       "2       5424                 52                       8  \n",
       "3       1910                 34                       2  \n",
       "4        895                  8                       1  \n",
       "5       4066                106                       1  \n",
       "6       3785                 44                       1  \n",
       "7        471                 10                       1  \n",
       "8       2653                 43                       3  \n",
       "9       1418                 16                       1  \n",
       "\n",
       "[10 rows x 45 columns]"
      ]
     },
     "execution_count": 31,
     "metadata": {},
     "output_type": "execute_result"
    }
   ],
   "source": [
    "full_data.head(10)"
   ]
  },
  {
   "cell_type": "code",
   "execution_count": null,
   "metadata": {},
   "outputs": [],
   "source": [
    "# check duplicated features\n",
    "# full_data.T.drop_duplicates().T"
   ]
  },
  {
   "cell_type": "code",
   "execution_count": 33,
   "metadata": {},
   "outputs": [],
   "source": [
    "features = full_data.columns.tolist()\n",
    "features.sort()"
   ]
  },
  {
   "cell_type": "code",
   "execution_count": 34,
   "metadata": {},
   "outputs": [],
   "source": [
    "# remove useless features\n",
    "features.remove('minute')\n",
    "features.remove('ip')\n",
    "# features.remove('day')"
   ]
  },
  {
   "cell_type": "code",
   "execution_count": 35,
   "metadata": {},
   "outputs": [
    {
     "data": {
      "text/plain": [
       "['app',\n",
       " 'app_channel_unicount',\n",
       " 'appfreq_ip',\n",
       " 'appfreq_ip_dow_channel',\n",
       " 'channel',\n",
       " 'channelfreq_ip',\n",
       " 'channelfreq_ip_app',\n",
       " 'channelfreq_ip_device',\n",
       " 'channelfreq_ip_device_app',\n",
       " 'channelfreq_ip_device_os',\n",
       " 'channelfreq_ip_dow',\n",
       " 'channelfreq_ip_dow_app',\n",
       " 'channelfreq_ip_dow_device',\n",
       " 'channelfreq_ip_dow_hour',\n",
       " 'channelfreq_ip_dow_hour_minute',\n",
       " 'channelfreq_ip_dow_hour_os_app',\n",
       " 'channelfreq_ip_dow_os',\n",
       " 'channelfreq_ip_dow_os_app',\n",
       " 'channelfreq_ip_hour_app',\n",
       " 'channelfreq_ip_hour_device',\n",
       " 'channelfreq_ip_hour_os',\n",
       " 'channelfreq_ip_os',\n",
       " 'channelfreq_ip_os_app',\n",
       " 'device',\n",
       " 'devicefreq_ip',\n",
       " 'devicefreq_ip_app',\n",
       " 'devicefreq_ip_dow_channel',\n",
       " 'devicefreq_ip_hour',\n",
       " 'devicefreq_ip_os_channel',\n",
       " 'dow',\n",
       " 'dowfreq_ip',\n",
       " 'duration_in_hours',\n",
       " 'hour',\n",
       " 'hour_working',\n",
       " 'ip_app_channel_unicount',\n",
       " 'ip_app_unicount',\n",
       " 'ip_channel_unicount',\n",
       " 'ip_device_unicount',\n",
       " 'ip_dow_unicount',\n",
       " 'os',\n",
       " 'osfreq_ip',\n",
       " 'osfreq_ip_channel',\n",
       " 'osfreq_ip_hour_channel']"
      ]
     },
     "execution_count": 35,
     "metadata": {},
     "output_type": "execute_result"
    }
   ],
   "source": [
    "features"
   ]
  },
  {
   "cell_type": "markdown",
   "metadata": {},
   "source": [
    "## Save Processed Data for Later Training and Validation"
   ]
  },
  {
   "cell_type": "code",
   "execution_count": 38,
   "metadata": {},
   "outputs": [
    {
     "name": "stdout",
     "output_type": "stream",
     "text": [
      "CPU times: user 53min 19s, sys: 3min 35s, total: 56min 55s\n",
      "Wall time: 52min 36s\n"
     ]
    }
   ],
   "source": [
    "%%time\n",
    "test_data_processed = full_data[features][train_data_len:]\n",
    "\n",
    "from sklearn.model_selection import train_test_split\n",
    "X_train, X_test, y_train, y_test = train_test_split(full_data[features][:train_data_len], label, test_size=0.1, shuffle=False)\n",
    "gc.collect()\n",
    "\n",
    "test_data_processed.to_csv('test_data_processed.csv', index=False)\n",
    "X_train.to_csv('X_train.csv', index=False)\n",
    "X_test.to_csv('X_test.csv', index=False)\n",
    "y_train.to_csv('y_train.csv', index=False)\n",
    "y_test.to_csv('y_test.csv', index=False)\n",
    "\n",
    "# del full_data\n",
    "gc.collect()"
   ]
  },
  {
   "cell_type": "code",
   "execution_count": null,
   "metadata": {},
   "outputs": [],
   "source": []
  }
 ],
 "metadata": {
  "kernelspec": {
   "display_name": "Python 3",
   "language": "python",
   "name": "python3"
  },
  "language_info": {
   "codemirror_mode": {
    "name": "ipython",
    "version": 3
   },
   "file_extension": ".py",
   "mimetype": "text/x-python",
   "name": "python",
   "nbconvert_exporter": "python",
   "pygments_lexer": "ipython3",
   "version": "3.6.6"
  }
 },
 "nbformat": 4,
 "nbformat_minor": 2
}
