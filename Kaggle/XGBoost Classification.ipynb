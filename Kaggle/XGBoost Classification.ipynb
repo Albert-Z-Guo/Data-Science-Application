{
 "cells": [
  {
   "cell_type": "code",
   "execution_count": 1,
   "metadata": {},
   "outputs": [],
   "source": [
    "import pandas as pd\n",
    "import dask.dataframe as dd\n",
    "import time\n",
    "start_time = time.time()"
   ]
  },
  {
   "cell_type": "code",
   "execution_count": 2,
   "metadata": {},
   "outputs": [
    {
     "data": {
      "text/plain": [
       "['app',\n",
       " 'app_channel_unicount',\n",
       " 'appfreq_ip',\n",
       " 'appfreq_ip_dow_channel',\n",
       " 'channel',\n",
       " 'channelfreq_ip',\n",
       " 'channelfreq_ip_app',\n",
       " 'channelfreq_ip_device',\n",
       " 'channelfreq_ip_device_app',\n",
       " 'channelfreq_ip_device_os',\n",
       " 'channelfreq_ip_dow',\n",
       " 'channelfreq_ip_dow_app',\n",
       " 'channelfreq_ip_dow_device',\n",
       " 'channelfreq_ip_dow_hour',\n",
       " 'channelfreq_ip_dow_hour_minute',\n",
       " 'channelfreq_ip_dow_hour_os_app',\n",
       " 'channelfreq_ip_dow_os',\n",
       " 'channelfreq_ip_dow_os_app',\n",
       " 'channelfreq_ip_hour_app',\n",
       " 'channelfreq_ip_hour_device',\n",
       " 'channelfreq_ip_hour_os',\n",
       " 'channelfreq_ip_os',\n",
       " 'channelfreq_ip_os_app',\n",
       " 'device',\n",
       " 'devicefreq_ip',\n",
       " 'devicefreq_ip_app',\n",
       " 'devicefreq_ip_dow_channel',\n",
       " 'devicefreq_ip_hour',\n",
       " 'devicefreq_ip_os_channel',\n",
       " 'dow',\n",
       " 'dowfreq_ip',\n",
       " 'duration_in_hours',\n",
       " 'hour',\n",
       " 'hour_working',\n",
       " 'ip_app_os_unicount',\n",
       " 'ip_device_unicount',\n",
       " 'ip_dow_hour_unicount',\n",
       " 'ip_dow_unicount',\n",
       " 'os',\n",
       " 'osfreq_ip',\n",
       " 'osfreq_ip_channel',\n",
       " 'osfreq_ip_hour_channel']"
      ]
     },
     "execution_count": 2,
     "metadata": {},
     "output_type": "execute_result"
    }
   ],
   "source": [
    "dtypes_new = {            \n",
    "                'app'                               : 'uint16',\n",
    "                'app_channel_unicount'              : 'uint32',\n",
    "                'appfreq_ip'                        : 'uint32',\n",
    "                'appfreq_ip_dow_channel'            : 'uint16',\n",
    "                'channel'                           : 'uint16',\n",
    "                'channelfreq_ip'                    : 'uint32',\n",
    "                'channelfreq_ip_app'                : 'uint32',\n",
    "                'channelfreq_ip_device'             : 'uint32',\n",
    "                'channelfreq_ip_device_app'         : 'uint32',\n",
    "                'channelfreq_ip_device_os'          : 'uint32',\n",
    "                'channelfreq_ip_dow'                : 'uint32',\n",
    "                'channelfreq_ip_dow_app'            : 'uint16',\n",
    "                'channelfreq_ip_dow_device'         : 'uint32',\n",
    "                'channelfreq_ip_dow_hour'           : 'uint16',\n",
    "                'channelfreq_ip_dow_hour_minute'    : 'uint16',\n",
    "                'channelfreq_ip_dow_hour_os_app'    : 'uint16',\n",
    "                'channelfreq_ip_dow_os'             : 'uint16',\n",
    "                'channelfreq_ip_dow_os_app'         : 'uint16',\n",
    "                'channelfreq_ip_hour_app'           : 'uint16',\n",
    "                'channelfreq_ip_hour_device'        : 'uint16',\n",
    "                'channelfreq_ip_hour_os'            : 'uint16',\n",
    "                'channelfreq_ip_os'                 : 'uint32',\n",
    "                'channelfreq_ip_os_app'             : 'uint16',\n",
    "                'device'                            : 'uint16',\n",
    "                'devicefreq_ip'                     : 'uint32',\n",
    "                'devicefreq_ip_app'                 : 'uint32',\n",
    "                'devicefreq_ip_dow_channel'         : 'uint16',\n",
    "                'devicefreq_ip_hour'                : 'uint32',\n",
    "                'devicefreq_ip_os_channel'          : 'uint16',\n",
    "                'dow'                                : 'uint8',\n",
    "                'dowfreq_ip'                        : 'uint32',\n",
    "                'duration_in_hours'                 : 'uint16',\n",
    "                'hour'                               : 'uint8',\n",
    "                'hour_working'                       : 'uint8',\n",
    "                'ip_app_os_unicount'                : 'uint16',\n",
    "                'ip_device_unicount'                : 'uint32',\n",
    "                'ip_dow_hour_unicount'              : 'uint16',\n",
    "                'ip_dow_unicount'                   : 'uint32',\n",
    "                'os'                                : 'uint16',\n",
    "                'osfreq_ip'                         : 'uint32',\n",
    "                'osfreq_ip_channel'                 : 'uint16',\n",
    "                'osfreq_ip_hour_channel'            : 'uint16',\n",
    "}\n",
    "\n",
    "features = list(dtypes_new.keys())\n",
    "features"
   ]
  },
  {
   "cell_type": "code",
   "execution_count": null,
   "metadata": {},
   "outputs": [],
   "source": [
    "categorical_features = ['dow']"
   ]
  },
  {
   "cell_type": "code",
   "execution_count": null,
   "metadata": {},
   "outputs": [],
   "source": [
    "%%time\n",
    "import xgboost as xgb\n",
    "import gc\n",
    "\n",
    "xg_train = xgb.DMatrix(pd.read_csv('X_train.csv', dtype=dtypes_new)[features].values, \\\n",
    "                        label = pd.read_csv('y_train.csv', dtype=dtypes_new, header = -1), \\\n",
    "                        feature_names=features)\n",
    "\n",
    "xg_test = xgb.DMatrix(pd.read_csv('X_test.csv', dtype=dtypes_new)[features].values, \\\n",
    "                        label = pd.read_csv('y_test.csv', dtype=dtypes_new, header = -1), \\\n",
    "                        feature_names=features)"
   ]
  },
  {
   "cell_type": "code",
   "execution_count": 5,
   "metadata": {},
   "outputs": [],
   "source": [
    "# import numpy as np\n",
    "# learning_rates = []\n",
    "# for x in np.arange(1, 101, 1):\n",
    "#     learning_rates.append(round(0.5 * pow(0.98, x), 3))\n",
    "    \n",
    "# # define a function that returns the decaying learning rate\n",
    "# def custom_rates(boosting_round, num_boost_round):\n",
    "#     return round(0.5 * pow(0.95, boosting_round), 3)"
   ]
  },
  {
   "cell_type": "code",
   "execution_count": 6,
   "metadata": {},
   "outputs": [],
   "source": [
    "label = dd.read_csv('y_train.csv', dtype=dtypes_new, header = -1)\n",
    "is_attributed_value_counts = label[0].value_counts()\n",
    "attributed_ratio = is_attributed_value_counts[1]/is_attributed_value_counts[0]\n",
    "\n",
    "print('attributed:', is_attributed_value_counts[0])\n",
    "print('not attributed:', is_attributed_value_counts[1])\n",
    "print('attributed ratio: {0:.6f}'.format(attributed_ratio))\n",
    "print('positive label weight benchmark: {0:.6f}'.format(1/attributed_ratio))"
   ]
  },
  {
   "cell_type": "code",
   "execution_count": null,
   "metadata": {
    "scrolled": false
   },
   "outputs": [
    {
     "name": "stdout",
     "output_type": "stream",
     "text": [
      "[0]\ttrain-auc:0.975495\tvalid-auc:0.967326\n",
      "Multiple eval metrics have been passed: 'valid-auc' will be used for early stopping.\n",
      "\n",
      "Will train until valid-auc hasn't improved in 50 rounds.\n",
      "[1]\ttrain-auc:0.976114\tvalid-auc:0.969129\n",
      "[2]\ttrain-auc:0.976594\tvalid-auc:0.969926\n",
      "[3]\ttrain-auc:0.977103\tvalid-auc:0.970797\n",
      "[4]\ttrain-auc:0.977515\tvalid-auc:0.971691\n",
      "[5]\ttrain-auc:0.977886\tvalid-auc:0.972269\n",
      "[6]\ttrain-auc:0.978127\tvalid-auc:0.972636\n",
      "[7]\ttrain-auc:0.978341\tvalid-auc:0.972831\n",
      "[8]\ttrain-auc:0.978629\tvalid-auc:0.972994\n",
      "[9]\ttrain-auc:0.978793\tvalid-auc:0.973232\n",
      "[10]\ttrain-auc:0.978982\tvalid-auc:0.973299\n",
      "[11]\ttrain-auc:0.979249\tvalid-auc:0.97352\n",
      "[12]\ttrain-auc:0.979471\tvalid-auc:0.97372\n",
      "[13]\ttrain-auc:0.979724\tvalid-auc:0.973772\n",
      "[14]\ttrain-auc:0.979979\tvalid-auc:0.973825\n",
      "[15]\ttrain-auc:0.980227\tvalid-auc:0.973879\n",
      "[16]\ttrain-auc:0.980444\tvalid-auc:0.974008\n",
      "[17]\ttrain-auc:0.980763\tvalid-auc:0.974075\n",
      "[18]\ttrain-auc:0.981024\tvalid-auc:0.974299\n",
      "[19]\ttrain-auc:0.98127\tvalid-auc:0.974338\n",
      "[20]\ttrain-auc:0.981495\tvalid-auc:0.97429\n",
      "[21]\ttrain-auc:0.981734\tvalid-auc:0.974399\n",
      "[22]\ttrain-auc:0.981955\tvalid-auc:0.974482\n",
      "[23]\ttrain-auc:0.982205\tvalid-auc:0.974567\n",
      "[24]\ttrain-auc:0.982446\tvalid-auc:0.974667\n",
      "[25]\ttrain-auc:0.98268\tvalid-auc:0.974689\n",
      "[26]\ttrain-auc:0.982952\tvalid-auc:0.974735\n",
      "[27]\ttrain-auc:0.983202\tvalid-auc:0.974817\n",
      "[28]\ttrain-auc:0.983423\tvalid-auc:0.974892\n",
      "[29]\ttrain-auc:0.983611\tvalid-auc:0.974917\n",
      "[30]\ttrain-auc:0.983848\tvalid-auc:0.974989\n",
      "[31]\ttrain-auc:0.984234\tvalid-auc:0.975061\n",
      "[32]\ttrain-auc:0.98452\tvalid-auc:0.975089\n",
      "[33]\ttrain-auc:0.984758\tvalid-auc:0.975146\n",
      "[34]\ttrain-auc:0.985214\tvalid-auc:0.975233\n",
      "[35]\ttrain-auc:0.985547\tvalid-auc:0.975363\n",
      "[36]\ttrain-auc:0.985932\tvalid-auc:0.975396\n",
      "[37]\ttrain-auc:0.9863\tvalid-auc:0.975486\n",
      "[38]\ttrain-auc:0.986628\tvalid-auc:0.975486\n",
      "[39]\ttrain-auc:0.986835\tvalid-auc:0.975525\n",
      "[40]\ttrain-auc:0.987199\tvalid-auc:0.975589\n",
      "[41]\ttrain-auc:0.987523\tvalid-auc:0.975644\n",
      "[42]\ttrain-auc:0.98775\tvalid-auc:0.975663\n",
      "[43]\ttrain-auc:0.987993\tvalid-auc:0.975706\n",
      "[44]\ttrain-auc:0.988265\tvalid-auc:0.975793\n",
      "[45]\ttrain-auc:0.988524\tvalid-auc:0.975829\n",
      "[46]\ttrain-auc:0.988738\tvalid-auc:0.97586\n",
      "[47]\ttrain-auc:0.988961\tvalid-auc:0.975878\n",
      "[48]\ttrain-auc:0.989244\tvalid-auc:0.975872\n",
      "[49]\ttrain-auc:0.989499\tvalid-auc:0.975995\n",
      "[50]\ttrain-auc:0.989708\tvalid-auc:0.97602\n",
      "[51]\ttrain-auc:0.989902\tvalid-auc:0.976033\n",
      "[52]\ttrain-auc:0.990108\tvalid-auc:0.976052\n",
      "[53]\ttrain-auc:0.990309\tvalid-auc:0.976079\n",
      "[54]\ttrain-auc:0.990527\tvalid-auc:0.976116\n",
      "[55]\ttrain-auc:0.990724\tvalid-auc:0.976103\n",
      "[56]\ttrain-auc:0.990902\tvalid-auc:0.976144\n",
      "[57]\ttrain-auc:0.991129\tvalid-auc:0.976194\n",
      "[58]\ttrain-auc:0.991277\tvalid-auc:0.976266\n",
      "[59]\ttrain-auc:0.991455\tvalid-auc:0.976276\n",
      "[60]\ttrain-auc:0.991618\tvalid-auc:0.976314\n",
      "[61]\ttrain-auc:0.99177\tvalid-auc:0.976323\n",
      "[62]\ttrain-auc:0.99192\tvalid-auc:0.976366\n",
      "[63]\ttrain-auc:0.99206\tvalid-auc:0.976381\n",
      "[64]\ttrain-auc:0.992194\tvalid-auc:0.976388\n",
      "[65]\ttrain-auc:0.992309\tvalid-auc:0.97644\n",
      "[66]\ttrain-auc:0.992444\tvalid-auc:0.976466\n",
      "[67]\ttrain-auc:0.992553\tvalid-auc:0.976493\n",
      "[68]\ttrain-auc:0.992668\tvalid-auc:0.97652\n",
      "[69]\ttrain-auc:0.992785\tvalid-auc:0.976601\n",
      "[70]\ttrain-auc:0.992901\tvalid-auc:0.976666\n",
      "[71]\ttrain-auc:0.992997\tvalid-auc:0.976695\n",
      "[72]\ttrain-auc:0.993095\tvalid-auc:0.976701\n",
      "[73]\ttrain-auc:0.993181\tvalid-auc:0.976746\n",
      "[74]\ttrain-auc:0.993264\tvalid-auc:0.976734\n",
      "[75]\ttrain-auc:0.993365\tvalid-auc:0.976761\n",
      "[76]\ttrain-auc:0.993435\tvalid-auc:0.976762\n",
      "[77]\ttrain-auc:0.993507\tvalid-auc:0.976824\n",
      "[78]\ttrain-auc:0.993571\tvalid-auc:0.976843\n",
      "[79]\ttrain-auc:0.993646\tvalid-auc:0.976858\n",
      "[80]\ttrain-auc:0.993725\tvalid-auc:0.976879\n",
      "[81]\ttrain-auc:0.993796\tvalid-auc:0.976895\n",
      "[82]\ttrain-auc:0.993859\tvalid-auc:0.97689\n",
      "[83]\ttrain-auc:0.993936\tvalid-auc:0.976912\n",
      "[84]\ttrain-auc:0.994003\tvalid-auc:0.976955\n",
      "[85]\ttrain-auc:0.994072\tvalid-auc:0.976971\n",
      "[86]\ttrain-auc:0.994137\tvalid-auc:0.976978\n",
      "[87]\ttrain-auc:0.994201\tvalid-auc:0.976986\n",
      "[88]\ttrain-auc:0.994259\tvalid-auc:0.977006\n",
      "[89]\ttrain-auc:0.994317\tvalid-auc:0.977021\n",
      "[90]\ttrain-auc:0.994384\tvalid-auc:0.977035\n",
      "[91]\ttrain-auc:0.994436\tvalid-auc:0.977054\n",
      "[92]\ttrain-auc:0.994497\tvalid-auc:0.977066\n",
      "[93]\ttrain-auc:0.994548\tvalid-auc:0.977095\n",
      "[94]\ttrain-auc:0.994603\tvalid-auc:0.977112\n",
      "[95]\ttrain-auc:0.994659\tvalid-auc:0.977151\n",
      "[96]\ttrain-auc:0.994717\tvalid-auc:0.977172\n",
      "[97]\ttrain-auc:0.994774\tvalid-auc:0.97696\n",
      "[98]\ttrain-auc:0.994834\tvalid-auc:0.977005\n",
      "[99]\ttrain-auc:0.994887\tvalid-auc:0.977019\n",
      "[100]\ttrain-auc:0.994945\tvalid-auc:0.977093\n",
      "[101]\ttrain-auc:0.994945\tvalid-auc:0.977093\n",
      "[102]\ttrain-auc:0.994945\tvalid-auc:0.977093\n",
      "[103]\ttrain-auc:0.994945\tvalid-auc:0.977093\n",
      "[104]\ttrain-auc:0.994945\tvalid-auc:0.977093\n",
      "[105]\ttrain-auc:0.994945\tvalid-auc:0.977093\n",
      "[106]\ttrain-auc:0.994945\tvalid-auc:0.977093\n",
      "[107]\ttrain-auc:0.994945\tvalid-auc:0.977093\n",
      "[108]\ttrain-auc:0.994945\tvalid-auc:0.977093\n",
      "[109]\ttrain-auc:0.994945\tvalid-auc:0.977093\n",
      "[110]\ttrain-auc:0.994945\tvalid-auc:0.977093\n",
      "[111]\ttrain-auc:0.994945\tvalid-auc:0.977093\n",
      "[112]\ttrain-auc:0.994945\tvalid-auc:0.977093\n",
      "[113]\ttrain-auc:0.994945\tvalid-auc:0.977093\n",
      "[114]\ttrain-auc:0.994945\tvalid-auc:0.977093\n",
      "[115]\ttrain-auc:0.994945\tvalid-auc:0.977093\n",
      "[116]\ttrain-auc:0.994945\tvalid-auc:0.977093\n",
      "[117]\ttrain-auc:0.994945\tvalid-auc:0.977093\n",
      "[118]\ttrain-auc:0.994945\tvalid-auc:0.977093\n",
      "[119]\ttrain-auc:0.994945\tvalid-auc:0.977093\n",
      "[120]\ttrain-auc:0.994945\tvalid-auc:0.977093\n",
      "[121]\ttrain-auc:0.994945\tvalid-auc:0.977093\n",
      "[122]\ttrain-auc:0.994945\tvalid-auc:0.977093\n",
      "[123]\ttrain-auc:0.994946\tvalid-auc:0.977094\n",
      "[124]\ttrain-auc:0.994946\tvalid-auc:0.977094\n",
      "[125]\ttrain-auc:0.994946\tvalid-auc:0.977094\n",
      "[126]\ttrain-auc:0.994946\tvalid-auc:0.977094\n",
      "[127]\ttrain-auc:0.994946\tvalid-auc:0.977094\n",
      "[128]\ttrain-auc:0.994946\tvalid-auc:0.977094\n"
     ]
    }
   ],
   "source": [
    "%%time\n",
    "# setup parameters for xgboost\n",
    "# https://github.com/dmlc/xgboost/blob/master/doc/parameter.md\n",
    "\n",
    "params = {\n",
    "            'objective': 'binary:logistic', \n",
    "            'eta': 0.05,\n",
    "            'tree_method': \"hist\", # fast histogram optimized approximate greedy algorithm\n",
    "            'grow_policy': \"lossguide\",\n",
    "            'max_leaves': 1000, # maximum number of nodes to be added\n",
    "            'max_depth': 0, # no limit\n",
    "            'alpha': 0, # L1 regularization term on weights\n",
    "            'lambda': 0, # L2 regularization term on weights\n",
    "            'min_child_weight': 0,\n",
    "#             'max_delta_step': 1,# maximum delta step we allow each tree's weight estimation to be\n",
    "            'scale_pos_weight': round(1/attributed_ratio),\n",
    "            'eval_metric': 'auc', \n",
    "            'nthread': 16,\n",
    "          }\n",
    "\n",
    "num_boost_round = 500\n",
    "watchlist = [(xg_train, 'train'), (xg_test, 'valid')]\n",
    "\n",
    "# bst = xgb.train(params, xg_train, num_boost_round, watchlist, callbacks=[xgb.callback.reset_learning_rate(custom_rates)])\n",
    "# bst = xgb.train(params, xg_train, num_boost_round, watchlist, callbacks=[xgb.callback.reset_learning_rate(learning_rates)])\n",
    "# bst = xgb.train(params, xg_train, num_boost_round, watchlist, early_stopping_rounds=3)\n",
    "bst = xgb.train(params, xg_train, num_boost_round, watchlist, early_stopping_rounds=50)"
   ]
  },
  {
   "cell_type": "code",
   "execution_count": null,
   "metadata": {},
   "outputs": [],
   "source": [
    "# best train-auc so far: 0.996623\n",
    "# best valid-auc so far: 0.977117"
   ]
  },
  {
   "cell_type": "code",
   "execution_count": null,
   "metadata": {},
   "outputs": [],
   "source": [
    "import matplotlib.pyplot as plt\n",
    "%matplotlib inline\n",
    "\n",
    "fig, ax = plt.subplots(1,1,figsize=(12,6), dpi=150)\n",
    "xgb.plot_importance(bst, ax=ax)\n",
    "fig.savefig('feature_importance.png')"
   ]
  },
  {
   "cell_type": "code",
   "execution_count": 6,
   "metadata": {},
   "outputs": [
    {
     "data": {
      "text/plain": [
       "array([0.18388285, 0.0244378 , 0.01018693, ..., 0.06214212, 0.03661466,\n",
       "       0.00707424], dtype=float32)"
      ]
     },
     "execution_count": 6,
     "metadata": {},
     "output_type": "execute_result"
    }
   ],
   "source": [
    "prediction = bst.predict(xgb.DMatrix(test_data_processed))\n",
    "\n",
    "del test_data_processed\n",
    "gc.collect()\n",
    "\n",
    "prediction"
   ]
  },
  {
   "cell_type": "code",
   "execution_count": 8,
   "metadata": {},
   "outputs": [
    {
     "data": {
      "image/png": "[encoded data removed]",
      "text/plain": [
       "<matplotlib.figure.Figure at 0x7fbd3d44c7b8>"
      ]
     },
     "metadata": {},
     "output_type": "display_data"
    }
   ],
   "source": [
    "plt.figure(figsize=(6,4), dpi=100)\n",
    "\n",
    "n, bins, patches = plt.hist(prediction, 50, facecolor='g', alpha=0.75)\n",
    "\n",
    "plt.xlabel('is_attributed Probability')\n",
    "plt.ylabel('Occurance')\n",
    "plt.grid(True)\n",
    "plt.show()"
   ]
  },
  {
   "cell_type": "code",
   "execution_count": 9,
   "metadata": {},
   "outputs": [
    {
     "name": "stdout",
     "output_type": "stream",
     "text": [
      "CPU times: user 3min 22s, sys: 216 ms, total: 3min 22s\n",
      "Wall time: 3min 22s\n"
     ]
    }
   ],
   "source": [
    "%%time\n",
    "click_id = dd.read_csv('click_id.csv', dtype=dtypes_new, header = -1)\n",
    "submission = pd.DataFrame({'click_id': click_id[0], 'is_attributed': prediction})\n",
    "submission.to_csv('submission.gz', compression='gzip', index=False)\n",
    "\n",
    "# del prediction\n",
    "# gc.collect()"
   ]
  },
  {
   "cell_type": "code",
   "execution_count": 10,
   "metadata": {},
   "outputs": [
    {
     "data": {
      "text/html": [
       "<div>\n",
       "<style scoped>\n",
       "    .dataframe tbody tr th:only-of-type {\n",
       "        vertical-align: middle;\n",
       "    }\n",
       "\n",
       "    .dataframe tbody tr th {\n",
       "        vertical-align: top;\n",
       "    }\n",
       "\n",
       "    .dataframe thead th {\n",
       "        text-align: right;\n",
       "    }\n",
       "</style>\n",
       "<table border=\"1\" class=\"dataframe\">\n",
       "  <thead>\n",
       "    <tr style=\"text-align: right;\">\n",
       "      <th></th>\n",
       "      <th>click_id</th>\n",
       "      <th>is_attributed</th>\n",
       "    </tr>\n",
       "  </thead>\n",
       "  <tbody>\n",
       "    <tr>\n",
       "      <th>0</th>\n",
       "      <td>0</td>\n",
       "      <td>0.313584</td>\n",
       "    </tr>\n",
       "    <tr>\n",
       "      <th>1</th>\n",
       "      <td>1</td>\n",
       "      <td>0.027138</td>\n",
       "    </tr>\n",
       "    <tr>\n",
       "      <th>2</th>\n",
       "      <td>2</td>\n",
       "      <td>0.017415</td>\n",
       "    </tr>\n",
       "    <tr>\n",
       "      <th>3</th>\n",
       "      <td>3</td>\n",
       "      <td>0.044356</td>\n",
       "    </tr>\n",
       "    <tr>\n",
       "      <th>4</th>\n",
       "      <td>4</td>\n",
       "      <td>0.017563</td>\n",
       "    </tr>\n",
       "    <tr>\n",
       "      <th>5</th>\n",
       "      <td>5</td>\n",
       "      <td>0.059774</td>\n",
       "    </tr>\n",
       "    <tr>\n",
       "      <th>6</th>\n",
       "      <td>6</td>\n",
       "      <td>0.019303</td>\n",
       "    </tr>\n",
       "    <tr>\n",
       "      <th>7</th>\n",
       "      <td>7</td>\n",
       "      <td>0.203314</td>\n",
       "    </tr>\n",
       "    <tr>\n",
       "      <th>8</th>\n",
       "      <td>9</td>\n",
       "      <td>0.127836</td>\n",
       "    </tr>\n",
       "    <tr>\n",
       "      <th>9</th>\n",
       "      <td>8</td>\n",
       "      <td>0.004745</td>\n",
       "    </tr>\n",
       "  </tbody>\n",
       "</table>\n",
       "</div>"
      ],
      "text/plain": [
       "   click_id  is_attributed\n",
       "0         0       0.313584\n",
       "1         1       0.027138\n",
       "2         2       0.017415\n",
       "3         3       0.044356\n",
       "4         4       0.017563\n",
       "5         5       0.059774\n",
       "6         6       0.019303\n",
       "7         7       0.203314\n",
       "8         9       0.127836\n",
       "9         8       0.004745"
      ]
     },
     "execution_count": 10,
     "metadata": {},
     "output_type": "execute_result"
    }
   ],
   "source": [
    "# XGBoost classification with impactful features using larger training data\n",
    "submission.head(10)"
   ]
  },
  {
   "cell_type": "code",
   "execution_count": 11,
   "metadata": {},
   "outputs": [
    {
     "name": "stdout",
     "output_type": "stream",
     "text": [
      "total running hours: 1.975\n"
     ]
    }
   ],
   "source": [
    "print('total running hours: {0:.3f}'.format((time.time() - start_time)/3600))"
   ]
  },
  {
   "cell_type": "code",
   "execution_count": 44,
   "metadata": {},
   "outputs": [],
   "source": [
    "# !kaggle competitions submit -c talkingdata-adtracking-fraud-detection -f submission.gz -m \"AWS more boosting with limited training data\""
   ]
  },
  {
   "cell_type": "code",
   "execution_count": null,
   "metadata": {},
   "outputs": [],
   "source": []
  }
 ],
 "metadata": {
  "kernelspec": {
   "display_name": "Python 3",
   "language": "python",
   "name": "python3"
  },
  "language_info": {
   "codemirror_mode": {
    "name": "ipython",
    "version": 3
   },
   "file_extension": ".py",
   "mimetype": "text/x-python",
   "name": "python",
   "nbconvert_exporter": "python",
   "pygments_lexer": "ipython3",
   "version": "3.6.5"
  }
 },
 "nbformat": 4,
 "nbformat_minor": 2
}
