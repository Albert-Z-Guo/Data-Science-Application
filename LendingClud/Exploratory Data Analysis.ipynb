{
 "cells": [
  {
   "cell_type": "code",
   "execution_count": 2,
   "metadata": {},
   "outputs": [],
   "source": [
    "import pandas as pd\n",
    "import numpy as np\n",
    "import matplotlib.pyplot as plt\n",
    "%matplotlib inline\n",
    "\n",
    "import seaborn as sns"
   ]
  },
  {
   "cell_type": "code",
   "execution_count": 4,
   "metadata": {},
   "outputs": [
    {
     "name": "stderr",
     "output_type": "stream",
     "text": [
      "/opt/local/Library/Frameworks/Python.framework/Versions/3.6/lib/python3.6/site-packages/IPython/core/interactiveshell.py:2785: DtypeWarning: Columns (16,51) have mixed types. Specify dtype option on import or set low_memory=False.\n",
      "  interactivity=interactivity, compiler=compiler, result=result)\n"
     ]
    }
   ],
   "source": [
    "df = pd.read_csv('Preprocessed_Data_2014.csv') "
   ]
  },
  {
   "cell_type": "code",
   "execution_count": 5,
   "metadata": {},
   "outputs": [
    {
     "data": {
      "text/html": [
       "<div>\n",
       "<style scoped>\n",
       "    .dataframe tbody tr th:only-of-type {\n",
       "        vertical-align: middle;\n",
       "    }\n",
       "\n",
       "    .dataframe tbody tr th {\n",
       "        vertical-align: top;\n",
       "    }\n",
       "\n",
       "    .dataframe thead th {\n",
       "        text-align: right;\n",
       "    }\n",
       "</style>\n",
       "<table border=\"1\" class=\"dataframe\">\n",
       "  <thead>\n",
       "    <tr style=\"text-align: right;\">\n",
       "      <th></th>\n",
       "      <th>numtl30dpd</th>\n",
       "      <th>inqlast6mths</th>\n",
       "      <th>accnowdelinq</th>\n",
       "      <th>numactvrevtl</th>\n",
       "      <th>totalcutl</th>\n",
       "      <th>installment</th>\n",
       "      <th>revolutil</th>\n",
       "      <th>delinqamnt</th>\n",
       "      <th>mthssincercntil</th>\n",
       "      <th>term</th>\n",
       "      <th>...</th>\n",
       "      <th>mosinoldrevtlop</th>\n",
       "      <th>avgcurbal</th>\n",
       "      <th>secappmortacc</th>\n",
       "      <th>emptitle</th>\n",
       "      <th>mthssincelastdelinq</th>\n",
       "      <th>dti</th>\n",
       "      <th>emplength</th>\n",
       "      <th>totcurbal</th>\n",
       "      <th>issued</th>\n",
       "      <th>loanstatus</th>\n",
       "    </tr>\n",
       "  </thead>\n",
       "  <tbody>\n",
       "    <tr>\n",
       "      <th>235626</th>\n",
       "      <td>0.0</td>\n",
       "      <td>2.0</td>\n",
       "      <td>0.0</td>\n",
       "      <td>2.0</td>\n",
       "      <td>NaN</td>\n",
       "      <td>514.34</td>\n",
       "      <td>51.1%</td>\n",
       "      <td>0.0</td>\n",
       "      <td>NaN</td>\n",
       "      <td>60 months</td>\n",
       "      <td>...</td>\n",
       "      <td>93.0</td>\n",
       "      <td>4089.0</td>\n",
       "      <td>NaN</td>\n",
       "      <td>patrol</td>\n",
       "      <td>65.0</td>\n",
       "      <td>25.65</td>\n",
       "      <td>7 years</td>\n",
       "      <td>73598.0</td>\n",
       "      <td>Jan-2014</td>\n",
       "      <td>Current</td>\n",
       "    </tr>\n",
       "    <tr>\n",
       "      <th>235627</th>\n",
       "      <td>0.0</td>\n",
       "      <td>1.0</td>\n",
       "      <td>0.0</td>\n",
       "      <td>3.0</td>\n",
       "      <td>NaN</td>\n",
       "      <td>62.59</td>\n",
       "      <td>21.5%</td>\n",
       "      <td>0.0</td>\n",
       "      <td>NaN</td>\n",
       "      <td>36 months</td>\n",
       "      <td>...</td>\n",
       "      <td>130.0</td>\n",
       "      <td>28172.0</td>\n",
       "      <td>NaN</td>\n",
       "      <td>Server Engineer Lead</td>\n",
       "      <td>13.0</td>\n",
       "      <td>5.39</td>\n",
       "      <td>3 years</td>\n",
       "      <td>591610.0</td>\n",
       "      <td>Jan-2014</td>\n",
       "      <td>Fully Paid</td>\n",
       "    </tr>\n",
       "    <tr>\n",
       "      <th>235628</th>\n",
       "      <td>0.0</td>\n",
       "      <td>0.0</td>\n",
       "      <td>0.0</td>\n",
       "      <td>2.0</td>\n",
       "      <td>NaN</td>\n",
       "      <td>367.58</td>\n",
       "      <td>70.8%</td>\n",
       "      <td>0.0</td>\n",
       "      <td>NaN</td>\n",
       "      <td>36 months</td>\n",
       "      <td>...</td>\n",
       "      <td>166.0</td>\n",
       "      <td>11495.0</td>\n",
       "      <td>NaN</td>\n",
       "      <td>NaN</td>\n",
       "      <td>9.0</td>\n",
       "      <td>22.78</td>\n",
       "      <td>10+ years</td>\n",
       "      <td>57477.0</td>\n",
       "      <td>Jan-2014</td>\n",
       "      <td>Fully Paid</td>\n",
       "    </tr>\n",
       "    <tr>\n",
       "      <th>235629</th>\n",
       "      <td>NaN</td>\n",
       "      <td>NaN</td>\n",
       "      <td>NaN</td>\n",
       "      <td>NaN</td>\n",
       "      <td>NaN</td>\n",
       "      <td>NaN</td>\n",
       "      <td>NaN</td>\n",
       "      <td>NaN</td>\n",
       "      <td>NaN</td>\n",
       "      <td>NaN</td>\n",
       "      <td>...</td>\n",
       "      <td>NaN</td>\n",
       "      <td>NaN</td>\n",
       "      <td>NaN</td>\n",
       "      <td>NaN</td>\n",
       "      <td>NaN</td>\n",
       "      <td>NaN</td>\n",
       "      <td>NaN</td>\n",
       "      <td>NaN</td>\n",
       "      <td>NaN</td>\n",
       "      <td>NaN</td>\n",
       "    </tr>\n",
       "    <tr>\n",
       "      <th>235630</th>\n",
       "      <td>NaN</td>\n",
       "      <td>NaN</td>\n",
       "      <td>NaN</td>\n",
       "      <td>NaN</td>\n",
       "      <td>NaN</td>\n",
       "      <td>NaN</td>\n",
       "      <td>NaN</td>\n",
       "      <td>NaN</td>\n",
       "      <td>NaN</td>\n",
       "      <td>NaN</td>\n",
       "      <td>...</td>\n",
       "      <td>NaN</td>\n",
       "      <td>NaN</td>\n",
       "      <td>NaN</td>\n",
       "      <td>NaN</td>\n",
       "      <td>NaN</td>\n",
       "      <td>NaN</td>\n",
       "      <td>NaN</td>\n",
       "      <td>NaN</td>\n",
       "      <td>NaN</td>\n",
       "      <td>NaN</td>\n",
       "    </tr>\n",
       "  </tbody>\n",
       "</table>\n",
       "<p>5 rows × 105 columns</p>\n",
       "</div>"
      ],
      "text/plain": [
       "        numtl30dpd  inqlast6mths  accnowdelinq  numactvrevtl  totalcutl  \\\n",
       "235626         0.0           2.0           0.0           2.0        NaN   \n",
       "235627         0.0           1.0           0.0           3.0        NaN   \n",
       "235628         0.0           0.0           0.0           2.0        NaN   \n",
       "235629         NaN           NaN           NaN           NaN        NaN   \n",
       "235630         NaN           NaN           NaN           NaN        NaN   \n",
       "\n",
       "        installment revolutil  delinqamnt  mthssincercntil        term  \\\n",
       "235626       514.34     51.1%         0.0              NaN   60 months   \n",
       "235627        62.59     21.5%         0.0              NaN   36 months   \n",
       "235628       367.58     70.8%         0.0              NaN   36 months   \n",
       "235629          NaN       NaN         NaN              NaN         NaN   \n",
       "235630          NaN       NaN         NaN              NaN         NaN   \n",
       "\n",
       "           ...     mosinoldrevtlop  avgcurbal  secappmortacc  \\\n",
       "235626     ...                93.0     4089.0            NaN   \n",
       "235627     ...               130.0    28172.0            NaN   \n",
       "235628     ...               166.0    11495.0            NaN   \n",
       "235629     ...                 NaN        NaN            NaN   \n",
       "235630     ...                 NaN        NaN            NaN   \n",
       "\n",
       "                    emptitle  mthssincelastdelinq    dti  emplength  \\\n",
       "235626                patrol                 65.0  25.65    7 years   \n",
       "235627  Server Engineer Lead                 13.0   5.39    3 years   \n",
       "235628                   NaN                  9.0  22.78  10+ years   \n",
       "235629                   NaN                  NaN    NaN        NaN   \n",
       "235630                   NaN                  NaN    NaN        NaN   \n",
       "\n",
       "        totcurbal    issued  loanstatus  \n",
       "235626    73598.0  Jan-2014     Current  \n",
       "235627   591610.0  Jan-2014  Fully Paid  \n",
       "235628    57477.0  Jan-2014  Fully Paid  \n",
       "235629        NaN       NaN         NaN  \n",
       "235630        NaN       NaN         NaN  \n",
       "\n",
       "[5 rows x 105 columns]"
      ]
     },
     "execution_count": 5,
     "metadata": {},
     "output_type": "execute_result"
    }
   ],
   "source": [
    "# the last two rows are invalid\n",
    "df.tail()"
   ]
  },
  {
   "cell_type": "code",
   "execution_count": 6,
   "metadata": {
    "scrolled": true
   },
   "outputs": [
    {
     "name": "stdout",
     "output_type": "stream",
     "text": [
      "<class 'pandas.core.frame.DataFrame'>\n",
      "RangeIndex: 235631 entries, 0 to 235630\n",
      "Data columns (total 105 columns):\n",
      "numtl30dpd                       235629 non-null float64\n",
      "inqlast6mths                     235629 non-null float64\n",
      "accnowdelinq                     235629 non-null float64\n",
      "numactvrevtl                     235629 non-null float64\n",
      "totalcutl                        0 non-null float64\n",
      "installment                      235629 non-null float64\n",
      "revolutil                        235504 non-null object\n",
      "delinqamnt                       235629 non-null float64\n",
      "mthssincercntil                  0 non-null float64\n",
      "term                             235629 non-null object\n",
      "earliestcrline                   235629 non-null object\n",
      "openacc                          235629 non-null float64\n",
      "numbcsats                        235629 non-null float64\n",
      "totalbalil                       0 non-null float64\n",
      "bcopentobuy                      233184 non-null float64\n",
      "fundedamnt                       235629 non-null float64\n",
      "id                               2 non-null object\n",
      "numacctsever120pd                235629 non-null float64\n",
      "secappcollections12mthsexmed     0 non-null float64\n",
      "numtl120dpd2m                    227769 non-null float64\n",
      "disbursementmethod               235629 non-null object\n",
      "totalbalexmort                   235629 non-null float64\n",
      "secappmthssincelastmajorderog    0 non-null float64\n",
      "allutil                          0 non-null float64\n",
      "totalilhighcreditlimit           235629 non-null float64\n",
      "secappopenactil                  0 non-null float64\n",
      "accopenpast24mths                235629 non-null float64\n",
      "openactil                        0 non-null float64\n",
      "mthssincelastrecord              41524 non-null float64\n",
      "numsats                          235629 non-null float64\n",
      "mthssincelastmajorderog          66478 non-null float64\n",
      "tothicredlim                     235629 non-null float64\n",
      "maxbalbc                         0 non-null float64\n",
      "openrv12m                        0 non-null float64\n",
      "secappnumrevaccts                0 non-null float64\n",
      "zipcode                          235629 non-null object\n",
      "chargeoffwithin12mths            235629 non-null float64\n",
      "mosinrcnttl                      235629 non-null float64\n",
      "collections12mthsexmed           235629 non-null float64\n",
      "pcttlnvrdlq                      235629 non-null float64\n",
      "secappinqlast6mths               0 non-null float64\n",
      "mthssincerecentbc                233383 non-null float64\n",
      "homeownership                    235629 non-null object\n",
      "addrstate                        235629 non-null object\n",
      "numtl90gdpd24m                   235629 non-null float64\n",
      "mthssincerecentrevoldelinq       84766 non-null float64\n",
      "secappopenacc                    0 non-null float64\n",
      "mosinrcntrevtlop                 235629 non-null float64\n",
      "revolbal                         235629 non-null float64\n",
      "bcutil                           233018 non-null float64\n",
      "secappchargeoffwithin12mths      0 non-null float64\n",
      "desc                             15279 non-null object\n",
      "totalrevhilim                    235629 non-null float64\n",
      "verificationstatusjoint          0 non-null float64\n",
      "intrate                          235629 non-null object\n",
      "openil24m                        0 non-null float64\n",
      "mthssincerecentinq               213937 non-null float64\n",
      "subgrade                         235629 non-null object\n",
      "openil12m                        0 non-null float64\n",
      "mosinoldilacct                   228458 non-null float64\n",
      "ilutil                           0 non-null float64\n",
      "inqlast12m                       0 non-null float64\n",
      "numtloppast12m                   235629 non-null float64\n",
      "percentbcgt75                    233072 non-null float64\n",
      "mthssincerecentbcdlq             62281 non-null float64\n",
      "numrevtlbalgt0                   235629 non-null float64\n",
      "totalacc                         235629 non-null float64\n",
      "revolbaljoint                    0 non-null float64\n",
      "numoprevtl                       235629 non-null float64\n",
      "numactvbctl                      235629 non-null float64\n",
      "mortacc                          235629 non-null float64\n",
      "inqfi                            0 non-null float64\n",
      "delinq2yrs                       235629 non-null float64\n",
      "applicationtype                  235629 non-null object\n",
      "openrv24m                        0 non-null float64\n",
      "openacc6m                        0 non-null float64\n",
      "totcollamt                       235629 non-null float64\n",
      "secapprevolutil                  0 non-null float64\n",
      "initialliststatus                235629 non-null object\n",
      "secappearliestcrline             0 non-null float64\n",
      "numrevaccts                      235629 non-null float64\n",
      "annualinc                        235629 non-null float64\n",
      "taxliens                         235629 non-null float64\n",
      "totalbclimit                     235629 non-null float64\n",
      "loanamnt                         235629 non-null float64\n",
      "numiltl                          235629 non-null float64\n",
      "dtijoint                         0 non-null float64\n",
      "verificationstatus               235629 non-null object\n",
      "grade                            235629 non-null object\n",
      "pubrecbankruptcies               235629 non-null float64\n",
      "numbctl                          235629 non-null float64\n",
      "memberid                         0 non-null float64\n",
      "pubrec                           235629 non-null float64\n",
      "annualincjoint                   0 non-null float64\n",
      "purpose                          235629 non-null object\n",
      "mosinoldrevtlop                  235629 non-null float64\n",
      "avgcurbal                        235623 non-null float64\n",
      "secappmortacc                    0 non-null float64\n",
      "emptitle                         222393 non-null object\n",
      "mthssincelastdelinq              119748 non-null float64\n",
      "dti                              235629 non-null float64\n",
      "emplength                        223610 non-null object\n",
      "totcurbal                        235629 non-null float64\n",
      "issued                           235629 non-null object\n",
      "loanstatus                       235629 non-null object\n",
      "dtypes: float64(85), object(20)\n",
      "memory usage: 188.8+ MB\n"
     ]
    }
   ],
   "source": [
    "df.info(verbose=True, null_counts=True)"
   ]
  },
  {
   "cell_type": "code",
   "execution_count": 7,
   "metadata": {},
   "outputs": [],
   "source": [
    "all_null_feature=[]\n",
    "num_feature=[]\n",
    "ob_feature=[]\n",
    "for col in df.columns:\n",
    "    if df[col].isnull().sum()==df.shape[0]:\n",
    "        all_null_feature.append(col)\n",
    "    else:\n",
    "        if df[col].dtype == 'object':\n",
    "            ob_feature.append(col)\n",
    "        else:\n",
    "            num_feature.append(col)"
   ]
  },
  {
   "cell_type": "code",
   "execution_count": 8,
   "metadata": {},
   "outputs": [
    {
     "name": "stdout",
     "output_type": "stream",
     "text": [
      "56 20\n",
      "29\n"
     ]
    }
   ],
   "source": [
    "print(len(num_feature), len(ob_feature))\n",
    "print(len(all_null_feature))"
   ]
  },
  {
   "cell_type": "code",
   "execution_count": 9,
   "metadata": {},
   "outputs": [
    {
     "data": {
      "text/plain": [
       "['totalcutl',\n",
       " 'mthssincercntil',\n",
       " 'totalbalil',\n",
       " 'secappcollections12mthsexmed',\n",
       " 'secappmthssincelastmajorderog',\n",
       " 'allutil',\n",
       " 'secappopenactil',\n",
       " 'openactil',\n",
       " 'maxbalbc',\n",
       " 'openrv12m',\n",
       " 'secappnumrevaccts',\n",
       " 'secappinqlast6mths',\n",
       " 'secappopenacc',\n",
       " 'secappchargeoffwithin12mths',\n",
       " 'verificationstatusjoint',\n",
       " 'openil24m',\n",
       " 'openil12m',\n",
       " 'ilutil',\n",
       " 'inqlast12m',\n",
       " 'revolbaljoint',\n",
       " 'inqfi',\n",
       " 'openrv24m',\n",
       " 'openacc6m',\n",
       " 'secapprevolutil',\n",
       " 'secappearliestcrline',\n",
       " 'dtijoint',\n",
       " 'memberid',\n",
       " 'annualincjoint',\n",
       " 'secappmortacc']"
      ]
     },
     "execution_count": 9,
     "metadata": {},
     "output_type": "execute_result"
    }
   ],
   "source": [
    "all_null_feature"
   ]
  },
  {
   "cell_type": "code",
   "execution_count": 10,
   "metadata": {},
   "outputs": [
    {
     "data": {
      "text/plain": [
       "['revolutil',\n",
       " 'term',\n",
       " 'earliestcrline',\n",
       " 'id',\n",
       " 'disbursementmethod',\n",
       " 'zipcode',\n",
       " 'homeownership',\n",
       " 'addrstate',\n",
       " 'desc',\n",
       " 'intrate',\n",
       " 'subgrade',\n",
       " 'applicationtype',\n",
       " 'initialliststatus',\n",
       " 'verificationstatus',\n",
       " 'grade',\n",
       " 'purpose',\n",
       " 'emptitle',\n",
       " 'emplength',\n",
       " 'issued',\n",
       " 'loanstatus']"
      ]
     },
     "execution_count": 10,
     "metadata": {},
     "output_type": "execute_result"
    }
   ],
   "source": [
    "ob_feature"
   ]
  },
  {
   "cell_type": "code",
   "execution_count": 11,
   "metadata": {},
   "outputs": [
    {
     "data": {
      "text/plain": [
       "['numtl30dpd',\n",
       " 'inqlast6mths',\n",
       " 'accnowdelinq',\n",
       " 'numactvrevtl',\n",
       " 'installment',\n",
       " 'delinqamnt',\n",
       " 'openacc',\n",
       " 'numbcsats',\n",
       " 'bcopentobuy',\n",
       " 'fundedamnt',\n",
       " 'numacctsever120pd',\n",
       " 'numtl120dpd2m',\n",
       " 'totalbalexmort',\n",
       " 'totalilhighcreditlimit',\n",
       " 'accopenpast24mths',\n",
       " 'mthssincelastrecord',\n",
       " 'numsats',\n",
       " 'mthssincelastmajorderog',\n",
       " 'tothicredlim',\n",
       " 'chargeoffwithin12mths',\n",
       " 'mosinrcnttl',\n",
       " 'collections12mthsexmed',\n",
       " 'pcttlnvrdlq',\n",
       " 'mthssincerecentbc',\n",
       " 'numtl90gdpd24m',\n",
       " 'mthssincerecentrevoldelinq',\n",
       " 'mosinrcntrevtlop',\n",
       " 'revolbal',\n",
       " 'bcutil',\n",
       " 'totalrevhilim',\n",
       " 'mthssincerecentinq',\n",
       " 'mosinoldilacct',\n",
       " 'numtloppast12m',\n",
       " 'percentbcgt75',\n",
       " 'mthssincerecentbcdlq',\n",
       " 'numrevtlbalgt0',\n",
       " 'totalacc',\n",
       " 'numoprevtl',\n",
       " 'numactvbctl',\n",
       " 'mortacc',\n",
       " 'delinq2yrs',\n",
       " 'totcollamt',\n",
       " 'numrevaccts',\n",
       " 'annualinc',\n",
       " 'taxliens',\n",
       " 'totalbclimit',\n",
       " 'loanamnt',\n",
       " 'numiltl',\n",
       " 'pubrecbankruptcies',\n",
       " 'numbctl',\n",
       " 'pubrec',\n",
       " 'mosinoldrevtlop',\n",
       " 'avgcurbal',\n",
       " 'mthssincelastdelinq',\n",
       " 'dti',\n",
       " 'totcurbal']"
      ]
     },
     "execution_count": 11,
     "metadata": {},
     "output_type": "execute_result"
    }
   ],
   "source": [
    "num_feature"
   ]
  },
  {
   "cell_type": "code",
   "execution_count": 67,
   "metadata": {},
   "outputs": [
    {
     "name": "stdout",
     "output_type": "stream",
     "text": [
      "0 applicationtype\n",
      "1 initialliststatus\n",
      "2 revolutil\n",
      "3 disbursementmethod\n",
      "4 earliestcrline\n",
      "5 subgrade\n",
      "6 term\n",
      "7 verificationstatus\n",
      "8 emplength\n",
      "9 grade\n",
      "10 purpose\n",
      "11 desc\n",
      "12 homeownership\n",
      "13 zipcode\n",
      "14 intrate\n",
      "15 id\n",
      "16 emptitle\n",
      "17 addrstate\n",
      "18 issued\n",
      "19 loanstatus\n"
     ]
    }
   ],
   "source": [
    "for i,j in enumerate(ob_feature):\n",
    "    print(i, j)"
   ]
  },
  {
   "cell_type": "code",
   "execution_count": 32,
   "metadata": {},
   "outputs": [
    {
     "name": "stdout",
     "output_type": "stream",
     "text": [
      "initialliststatus\n"
     ]
    }
   ],
   "source": [
    "i = 1\n",
    "feat = ob_feature[i]\n",
    "print(feat)"
   ]
  },
  {
   "cell_type": "code",
   "execution_count": 33,
   "metadata": {},
   "outputs": [
    {
     "name": "stdout",
     "output_type": "stream",
     "text": [
      "2\n"
     ]
    },
    {
     "data": {
      "text/plain": [
       "w    123473\n",
       "f    112156\n",
       "Name: initialliststatus, dtype: int64"
      ]
     },
     "execution_count": 33,
     "metadata": {},
     "output_type": "execute_result"
    }
   ],
   "source": [
    "print(df[feat].isnull().sum())\n",
    "df[feat].value_counts()"
   ]
  },
  {
   "cell_type": "code",
   "execution_count": 34,
   "metadata": {},
   "outputs": [
    {
     "name": "stdout",
     "output_type": "stream",
     "text": [
      "grade\n",
      "2\n"
     ]
    },
    {
     "data": {
      "text/plain": [
       "C    66565\n",
       "B    61935\n",
       "D    42992\n",
       "A    36108\n",
       "E    20121\n",
       "F     6223\n",
       "G     1685\n",
       "Name: grade, dtype: int64"
      ]
     },
     "execution_count": 34,
     "metadata": {},
     "output_type": "execute_result"
    }
   ],
   "source": [
    "i = 9\n",
    "feat = ob_feature[i]\n",
    "print(feat)\n",
    "print(df[feat].isnull().sum())\n",
    "df[feat].value_counts()"
   ]
  },
  {
   "cell_type": "code",
   "execution_count": 35,
   "metadata": {},
   "outputs": [
    {
     "name": "stdout",
     "output_type": "stream",
     "text": [
      "subgrade\n",
      "2\n"
     ]
    },
    {
     "data": {
      "text/plain": [
       "C2    13965\n",
       "C3    13794\n",
       "C1    13498\n",
       "B4    13475\n",
       "B5    13309\n",
       "C4    13093\n",
       "B3    13075\n",
       "C5    12215\n",
       "B2    11439\n",
       "D1    10880\n",
       "A5    10761\n",
       "B1    10637\n",
       "D2     9544\n",
       "A4     9124\n",
       "D3     8487\n",
       "D4     7881\n",
       "D5     6200\n",
       "A3     5842\n",
       "E1     5589\n",
       "A2     5234\n",
       "A1     5147\n",
       "E2     4831\n",
       "E3     3902\n",
       "E4     3101\n",
       "E5     2698\n",
       "F1     1935\n",
       "F2     1355\n",
       "F3     1321\n",
       "F4      964\n",
       "F5      648\n",
       "G1      527\n",
       "G2      427\n",
       "G3      305\n",
       "G4      214\n",
       "G5      212\n",
       "Name: subgrade, dtype: int64"
      ]
     },
     "execution_count": 35,
     "metadata": {},
     "output_type": "execute_result"
    }
   ],
   "source": [
    "i = 5\n",
    "feat = ob_feature[i]\n",
    "print(feat)\n",
    "print(df[feat].isnull().sum())\n",
    "df[feat].value_counts()"
   ]
  },
  {
   "cell_type": "code",
   "execution_count": 36,
   "metadata": {},
   "outputs": [
    {
     "name": "stdout",
     "output_type": "stream",
     "text": [
      "earliestcrline\n",
      "2\n"
     ]
    },
    {
     "data": {
      "text/plain": [
       "Aug-2001    1980\n",
       "Aug-2000    1945\n",
       "Sep-2000    1719\n",
       "Aug-2002    1711\n",
       "Aug-1999    1696\n",
       "Oct-2000    1658\n",
       "Sep-1999    1642\n",
       "Sep-2002    1574\n",
       "Oct-2001    1574\n",
       "Sep-2001    1562\n",
       "Oct-1999    1543\n",
       "Nov-1999    1525\n",
       "Sep-1998    1505\n",
       "Oct-2002    1472\n",
       "Nov-2000    1468\n",
       "Mar-2001    1452\n",
       "Nov-2001    1440\n",
       "Jul-2001    1421\n",
       "Sep-2003    1415\n",
       "Mar-2000    1399\n",
       "Aug-2003    1389\n",
       "May-2001    1384\n",
       "Oct-1998    1371\n",
       "Jul-2002    1370\n",
       "Jun-2000    1366\n",
       "Jun-2001    1356\n",
       "Jul-2000    1351\n",
       "Apr-2001    1347\n",
       "Oct-2003    1327\n",
       "Aug-1998    1312\n",
       "            ... \n",
       "Dec-1956       1\n",
       "Sep-1957       1\n",
       "Mar-1962       1\n",
       "Mar-1961       1\n",
       "Sep-1963       1\n",
       "Nov-1956       1\n",
       "Mar-1959       1\n",
       "Jul-1958       1\n",
       "May-1950       1\n",
       "Nov-1954       1\n",
       "Aug-1961       1\n",
       "Apr-1962       1\n",
       "May-1963       1\n",
       "Jan-1954       1\n",
       "Oct-1958       1\n",
       "Feb-1961       1\n",
       "Jun-1949       1\n",
       "Dec-1963       1\n",
       "May-1958       1\n",
       "Jan-1953       1\n",
       "Feb-1963       1\n",
       "Dec-1960       1\n",
       "Jul-1961       1\n",
       "Jan-1948       1\n",
       "Aug-1946       1\n",
       "Mar-1960       1\n",
       "Aug-1962       1\n",
       "Oct-1950       1\n",
       "Oct-1962       1\n",
       "Aug-1958       1\n",
       "Name: earliestcrline, Length: 638, dtype: int64"
      ]
     },
     "execution_count": 36,
     "metadata": {},
     "output_type": "execute_result"
    }
   ],
   "source": [
    "# date format, convert to time difference, e.g., months to 2015 and thus is a numeric feature\n",
    "i = 4\n",
    "feat = ob_feature[i]\n",
    "print(feat)\n",
    "print(df[feat].isnull().sum())\n",
    "df[feat].value_counts()"
   ]
  },
  {
   "cell_type": "code",
   "execution_count": 38,
   "metadata": {},
   "outputs": [
    {
     "name": "stdout",
     "output_type": "stream",
     "text": [
      "applicationtype\n",
      "2\n"
     ]
    },
    {
     "data": {
      "text/plain": [
       "Individual    235629\n",
       "Name: applicationtype, dtype: int64"
      ]
     },
     "execution_count": 38,
     "metadata": {},
     "output_type": "execute_result"
    }
   ],
   "source": [
    "# all \"individual\", that is the reason for all join-stuff are NA\n",
    "i = 0\n",
    "feat = ob_feature[i]\n",
    "print(feat)\n",
    "print(df[feat].isnull().sum())\n",
    "df[feat].value_counts()"
   ]
  },
  {
   "cell_type": "code",
   "execution_count": 40,
   "metadata": {
    "scrolled": true
   },
   "outputs": [
    {
     "name": "stdout",
     "output_type": "stream",
     "text": [
      "intrate\n",
      "2\n"
     ]
    },
    {
     "data": {
      "text/plain": [
       " 12.99%    12630\n",
       " 10.99%    10684\n",
       " 15.61%    10310\n",
       " 12.49%     9704\n",
       " 13.98%     8856\n",
       " 14.99%     8101\n",
       " 17.57%     7686\n",
       " 13.35%     7620\n",
       " 11.67%     7255\n",
       " 14.49%     7244\n",
       " 11.99%     6199\n",
       " 10.15%     6116\n",
       " 16.99%     5946\n",
       "  9.17%     5656\n",
       "  8.39%     5575\n",
       " 16.29%     5414\n",
       "  6.03%     5146\n",
       "  7.69%     4962\n",
       "  6.49%     4026\n",
       " 18.24%     3597\n",
       "  9.67%     3455\n",
       "  8.90%     3384\n",
       " 18.99%     3214\n",
       "  7.12%     3055\n",
       " 14.64%     3029\n",
       " 14.16%     2952\n",
       " 19.52%     2926\n",
       "  7.90%     2885\n",
       " 15.31%     2838\n",
       " 13.65%     2753\n",
       "           ...  \n",
       " 20.49%      983\n",
       " 17.14%      974\n",
       " 16.49%      968\n",
       " 24.99%      963\n",
       " 21.99%      916\n",
       " 21.18%      858\n",
       "  6.99%      855\n",
       " 17.86%      765\n",
       " 18.54%      720\n",
       " 19.22%      663\n",
       " 25.57%      647\n",
       " 19.24%      588\n",
       " 22.45%      558\n",
       " 25.80%      526\n",
       " 19.97%      517\n",
       " 20.50%      470\n",
       " 25.83%      426\n",
       " 21.48%      332\n",
       " 25.89%      305\n",
       " 22.40%      276\n",
       " 22.99%      240\n",
       " 25.99%      214\n",
       " 23.40%      214\n",
       " 26.06%      212\n",
       " 22.90%      212\n",
       " 23.99%      179\n",
       " 23.70%      163\n",
       "  6.00%       81\n",
       " 17.50%        1\n",
       " 19.20%        1\n",
       "Name: intrate, Length: 89, dtype: int64"
      ]
     },
     "execution_count": 40,
     "metadata": {},
     "output_type": "execute_result"
    }
   ],
   "source": [
    "i = 14\n",
    "feat = ob_feature[i]\n",
    "print(feat)\n",
    "print(df[feat].isnull().sum())\n",
    "df[feat].value_counts()"
   ]
  },
  {
   "cell_type": "code",
   "execution_count": 44,
   "metadata": {},
   "outputs": [
    {
     "name": "stdout",
     "output_type": "stream",
     "text": [
      "desc\n",
      "220352\n"
     ]
    },
    {
     "data": {
      "text/plain": [
       "  Borrower added on 03/17/14 > Debt consolidation<br>                                                                                                                                                                                                                                                                                                                                                                                                                                               11\n",
       "  Borrower added on 03/10/14 > Debt consolidation<br>                                                                                                                                                                                                                                                                                                                                                                                                                                               10\n",
       "  Borrower added on 02/19/14 > Debt consolidation<br>                                                                                                                                                                                                                                                                                                                                                                                                                                                9\n",
       "  Borrower added on 01/29/14 > Debt consolidation<br>                                                                                                                                                                                                                                                                                                                                                                                                                                                8\n",
       "  Borrower added on 01/22/14 > Debt consolidation<br>                                                                                                                                                                                                                                                                                                                                                                                                                                                7\n",
       "  Borrower added on 01/15/14 > Debt consolidation<br>                                                                                                                                                                                                                                                                                                                                                                                                                                                7\n",
       "  Borrower added on 03/14/14 > Debt consolidation<br>                                                                                                                                                                                                                                                                                                                                                                                                                                                6\n",
       "  Borrower added on 02/26/14 > Debt Consolidation<br>                                                                                                                                                                                                                                                                                                                                                                                                                                                6\n",
       "  Borrower added on 02/03/14 > Debt consolidation<br>                                                                                                                                                                                                                                                                                                                                                                                                                                                6\n",
       "  Borrower added on 03/07/14 > Debt consolidation<br>                                                                                                                                                                                                                                                                                                                                                                                                                                                6\n",
       "  Borrower added on 03/05/14 > debt consolidation<br>                                                                                                                                                                                                                                                                                                                                                                                                                                                6\n",
       "  Borrower added on 03/03/14 > Debt consolidation<br>                                                                                                                                                                                                                                                                                                                                                                                                                                                6\n",
       "  Borrower added on 02/19/14 > Debt Consolidation<br>                                                                                                                                                                                                                                                                                                                                                                                                                                                6\n",
       "  Borrower added on 02/06/14 > Debt consolidation<br>                                                                                                                                                                                                                                                                                                                                                                                                                                                6\n",
       "  Borrower added on 01/03/14 > Debt consolidation<br>                                                                                                                                                                                                                                                                                                                                                                                                                                                6\n",
       "  Borrower added on 01/27/14 > Debt consolidation<br>                                                                                                                                                                                                                                                                                                                                                                                                                                                6\n",
       "  Borrower added on 03/18/14 > Debt consolidation<br>                                                                                                                                                                                                                                                                                                                                                                                                                                                6\n",
       "  Borrower added on 01/06/14 > Debt consolidation<br>                                                                                                                                                                                                                                                                                                                                                                                                                                                6\n",
       "  Borrower added on 01/21/14 > Debt consolidation<br>                                                                                                                                                                                                                                                                                                                                                                                                                                                5\n",
       "  Borrower added on 02/06/14 > debt consolidation<br>                                                                                                                                                                                                                                                                                                                                                                                                                                                5\n",
       "  Borrower added on 01/07/14 > Debt consolidation<br>                                                                                                                                                                                                                                                                                                                                                                                                                                                5\n",
       "  Borrower added on 02/04/14 > Debt consolidation<br>                                                                                                                                                                                                                                                                                                                                                                                                                                                5\n",
       "  Borrower added on 01/17/14 > Debt consolidation<br>                                                                                                                                                                                                                                                                                                                                                                                                                                                5\n",
       "  Borrower added on 02/27/14 > Debt consolidation<br>                                                                                                                                                                                                                                                                                                                                                                                                                                                5\n",
       "  Borrower added on 02/24/14 > Debt Consolidation<br>                                                                                                                                                                                                                                                                                                                                                                                                                                                5\n",
       "  Borrower added on 02/25/14 > Debt consolidation<br>                                                                                                                                                                                                                                                                                                                                                                                                                                                5\n",
       "  Borrower added on 02/05/14 > Debt consolidation<br>                                                                                                                                                                                                                                                                                                                                                                                                                                                5\n",
       "  Borrower added on 03/05/14 > Debt consolidation<br>                                                                                                                                                                                                                                                                                                                                                                                                                                                5\n",
       "  Borrower added on 01/23/14 > Debt consolidation<br>                                                                                                                                                                                                                                                                                                                                                                                                                                                5\n",
       "  Borrower added on 02/25/14 > Debt consolidation.<br>                                                                                                                                                                                                                                                                                                                                                                                                                                               5\n",
       "                                                                                                                                                                                                                                                                                                                                                                                                                                                                                                    ..\n",
       "  Borrower added on 02/12/14 > Hi,<br>am trying, consolidate all my card debt into one - I've always been a responsible - credit report - always on-time payments and never minimum. thank for your review and consideration.<br><br>  Borrower added on 02/12/14 > Hi,<br>am trying to consolidate all my debt into one - I've always been a responsible user- my credit report indicates:always on-time payments and never minimum. thank for your review and consideration and your help.<br>     1\n",
       "  Borrower added on 02/18/14 > This is to consolidate credit card debt<br>                                                                                                                                                                                                                                                                                                                                                                                                                           1\n",
       "  Borrower added on 03/18/14 > Payoff high interest on credit cards and car repairs on 2001 Subru<br>                                                                                                                                                                                                                                                                                                                                                                                                1\n",
       "  Borrower added on 02/28/14 > I want to pay off 4 credit cards that have an extremely high rate and close out the accounts.  Paying one payment for all will keep me disciplined in paying off completely within a 3-5 year period of time.<br>                                                                                                                                                                                                                                                     1\n",
       "  Borrower added on 03/18/14 > payoff some credit cards and only have one payment<br>                                                                                                                                                                                                                                                                                                                                                                                                                1\n",
       "  Borrower added on 02/25/14 > Paying off all credit card debt.<br>                                                                                                                                                                                                                                                                                                                                                                                                                                  1\n",
       "  Borrower added on 01/03/14 > reduce interest rate on BoA credit card and close account.<br>                                                                                                                                                                                                                                                                                                                                                                                                        1\n",
       "  Borrower added on 01/13/14 > loan consolidation<br>                                                                                                                                                                                                                                                                                                                                                                                                                                                1\n",
       "  Borrower added on 02/21/14 > Getting my credit in line...<br><br> Borrower added on 02/21/14 > Getting my credit in line...<br>                                                                                                                                                                                                                                                                                                                                                                    1\n",
       "  Borrower added on 02/25/14 > FOR CREDIT CARD CONSOLIDATION AND HOME REMODELING<br>                                                                                                                                                                                                                                                                                                                                                                                                                 1\n",
       "  Borrower added on 01/09/14 > To pay off credit cards or debt consolidation<br><br> Borrower added on 01/09/14 > Debt Consolidation<br><br> Borrower added on 01/09/14 > To get me out of debt so that I will not feel so pressured each month when the bills are do.<br>                                                                                                                                                                                                                           1\n",
       "  Borrower added on 02/10/14 > I am wanting to pay off my credit cards and a couple of medical bills.<br>                                                                                                                                                                                                                                                                                                                                                                                            1\n",
       "  Borrower added on 02/15/14 > The moneys from this loan will be fully devoted to credit card debt payoff.<br>                                                                                                                                                                                                                                                                                                                                                                                       1\n",
       "  Borrower added on 01/21/14 > pay off bills from christmas<br>                                                                                                                                                                                                                                                                                                                                                                                                                                      1\n",
       "  Borrower added on 02/08/14 > To consolidate credit card debt.<br>                                                                                                                                                                                                                                                                                                                                                                                                                                  1\n",
       "  Borrower added on 02/03/14 > Requesting funds for additional down payment on townhouse purchase.<br>                                                                                                                                                                                                                                                                                                                                                                                               1\n",
       "  Borrower added on 01/21/14 > I am consolidating debt to save money each month and guarantee that I pay off all open credit cards in less time than it would take to do so making minimum monthly payments.<br>                                                                                                                                                                                                                                                                                     1\n",
       "  Borrower added on 02/14/14 > Dear Investors,<br>I am in need of credit card refinancing since the rates are very high at this moment.  I am hoping to get a good rate. I appreciate your help, thank you.<br>                                                                                                                                                                                                                                                                                      1\n",
       "  Borrower added on 03/17/14 > My loan is for debt consolidation to pay off credit cards.<br>                                                                                                                                                                                                                                                                                                                                                                                                        1\n",
       "  Borrower added on 01/27/14 > AUTO REPAIRS, AND PAY SOME MEDICAL BILLS<br>                                                                                                                                                                                                                                                                                                                                                                                                                          1\n",
       "  Borrower added on 02/08/14 > Looking to consolidate and lower consumer credit debt. Thank you for your consideration.<br>                                                                                                                                                                                                                                                                                                                                                                          1\n",
       "  Borrower added on 02/10/14 > Working capital for business. Funds will be used for marketing to help accelerate our growth.<br>                                                                                                                                                                                                                                                                                                                                                                     1\n",
       "  Borrower added on 02/14/14 > 100% of proceeds of this loan will go to refinance existing debt at a lower rate. thank you!<br>                                                                                                                                                                                                                                                                                                                                                                      1\n",
       "  Borrower added on 01/24/14 > I am current on all of my obligations, as I've always been.  This loan will help me consolidate my debts and allow me to meet my financial goals quicker as my current situation doesn't allow me to make much headway.   I have been in steady employment in the same field for 10 years.<br>                                                                                                                                                                        1\n",
       "  Borrower added on 02/25/14 > Looking to consolidate all of my debt into one easy to manage payment.<br>                                                                                                                                                                                                                                                                                                                                                                                            1\n",
       "  Borrower added on 02/03/14 > I would like to pay off other loans with a higher Apr. I have heard nothing but great things about lending tree.<br>                                                                                                                                                                                                                                                                                                                                                  1\n",
       "  Borrower added on 03/17/14 > consolidate my bills into one easy payment so i can stay on track to becoming debt free<br>                                                                                                                                                                                                                                                                                                                                                                           1\n",
       "  Borrower added on 03/10/14 > I am looking to lower my monthly payment on a current loan I have.  My current loan payment is $389 per month and I am looking to lower it to around $260 per month to save additional money each month.<br>                                                                                                                                                                                                                                                          1\n",
       "  Borrower added on 03/12/14 > I am tired of making payments on three credit cards that I have not used in awhile.  Im looking forward to consolidating them into a loan where I can actually see the balance going down.  Thank you for your consideration.<br>                                                                                                                                                                                                                                     1\n",
       "  Borrower added on 02/22/14 > This loan is to pay off credit cards that accumulated due to helping family because my father passed away, Dr. bills and car repairs.<br>                                                                                                                                                                                                                                                                                                                             1\n",
       "Name: desc, Length: 14843, dtype: int64"
      ]
     },
     "execution_count": 44,
     "metadata": {},
     "output_type": "execute_result"
    }
   ],
   "source": [
    "# only 235631 - 220352 = 15279 not null values, and involves NLP. simply drop it, or make it classify them to null and not_null, short v.s. long\n",
    "# this part might be quite similar to the purpose feature, which is quite important.\n",
    "\n",
    "i = 11\n",
    "feat = ob_feature[i]\n",
    "print(feat)\n",
    "print(df[feat].isnull().sum())\n",
    "df[feat].value_counts()"
   ]
  },
  {
   "cell_type": "code",
   "execution_count": 47,
   "metadata": {},
   "outputs": [
    {
     "name": "stdout",
     "output_type": "stream",
     "text": [
      "term\n",
      "2\n",
      " 36 months    0.689941\n",
      " 60 months    0.310059\n",
      "Name: term, dtype: float64\n"
     ]
    },
    {
     "data": {
      "text/plain": [
       " 36 months    162570\n",
       " 60 months     73059\n",
       "Name: term, dtype: int64"
      ]
     },
     "execution_count": 47,
     "metadata": {},
     "output_type": "execute_result"
    }
   ],
   "source": [
    "# only use 36 months data for our project\n",
    "\n",
    "i = 6\n",
    "feat = ob_feature[i]\n",
    "print(feat)\n",
    "print(df[feat].isnull().sum())\n",
    "print(df.term.value_counts(normalize=True))\n",
    "df[feat].value_counts()"
   ]
  },
  {
   "cell_type": "code",
   "execution_count": 48,
   "metadata": {},
   "outputs": [
    {
     "name": "stdout",
     "output_type": "stream",
     "text": [
      "homeownership\n",
      "2\n"
     ]
    },
    {
     "data": {
      "text/plain": [
       "MORTGAGE    119937\n",
       "RENT         92684\n",
       "OWN          23007\n",
       "ANY              1\n",
       "Name: homeownership, dtype: int64"
      ]
     },
     "execution_count": 48,
     "metadata": {},
     "output_type": "execute_result"
    }
   ],
   "source": [
    "# one hot encoding, but ignore the 1 data point ANY?\n",
    "\n",
    "i = 12\n",
    "feat = ob_feature[i]\n",
    "print(feat)\n",
    "print(df[feat].isnull().sum())\n",
    "df[feat].value_counts()"
   ]
  },
  {
   "cell_type": "code",
   "execution_count": 53,
   "metadata": {},
   "outputs": [
    {
     "name": "stdout",
     "output_type": "stream",
     "text": [
      "addrstate\n",
      "2\n",
      "49\n"
     ]
    },
    {
     "data": {
      "text/plain": [
       "CA    33288\n",
       "NY    19923\n",
       "TX    18967\n",
       "FL    15691\n",
       "IL     9628\n",
       "NJ     8863\n",
       "PA     8427\n",
       "OH     8011\n",
       "GA     7600\n",
       "VA     6965\n",
       "NC     6442\n",
       "MI     6205\n",
       "MD     5564\n",
       "AZ     5507\n",
       "MA     5232\n",
       "WA     5118\n",
       "CO     4929\n",
       "MN     4276\n",
       "IN     4206\n",
       "TN     3907\n",
       "MO     3788\n",
       "CT     3483\n",
       "NV     3225\n",
       "WI     3101\n",
       "AL     3034\n",
       "SC     2971\n",
       "OR     2912\n",
       "LA     2761\n",
       "KY     2379\n",
       "OK     2118\n",
       "KS     2103\n",
       "AR     1806\n",
       "UT     1669\n",
       "NM     1367\n",
       "WV     1311\n",
       "MS     1197\n",
       "HI     1196\n",
       "NH     1155\n",
       "RI     1043\n",
       "MT      731\n",
       "DE      661\n",
       "DC      637\n",
       "AK      598\n",
       "WY      583\n",
       "VT      542\n",
       "SD      506\n",
       "ME        1\n",
       "ID        1\n",
       "IA        1\n",
       "Name: addrstate, dtype: int64"
      ]
     },
     "execution_count": 53,
     "metadata": {},
     "output_type": "execute_result"
    }
   ],
   "source": [
    "# 49 states, can generate frequency and leave-one-out encoding\n",
    "\n",
    "i = 17\n",
    "feat = ob_feature[i]\n",
    "print(feat)\n",
    "print(df[feat].isnull().sum())\n",
    "print(len(df[feat].value_counts()))\n",
    "df[feat].value_counts()"
   ]
  },
  {
   "cell_type": "code",
   "execution_count": 54,
   "metadata": {
    "scrolled": true
   },
   "outputs": [
    {
     "name": "stdout",
     "output_type": "stream",
     "text": [
      "revolutil\n",
      "127\n"
     ]
    },
    {
     "data": {
      "text/plain": [
       "0%        590\n",
       "59%       520\n",
       "58%       515\n",
       "53%       512\n",
       "48%       485\n",
       "50%       483\n",
       "55%       479\n",
       "57%       472\n",
       "54%       472\n",
       "46%       471\n",
       "52%       467\n",
       "61%       466\n",
       "62%       466\n",
       "47%       462\n",
       "51%       457\n",
       "60%       451\n",
       "67%       450\n",
       "65%       442\n",
       "63%       441\n",
       "49%       441\n",
       "64%       438\n",
       "40%       436\n",
       "66%       429\n",
       "56%       428\n",
       "43%       428\n",
       "68%       428\n",
       "44%       423\n",
       "69%       422\n",
       "41%       421\n",
       "45%       416\n",
       "         ... \n",
       "180.3%      1\n",
       "109.5%      1\n",
       "118.9%      1\n",
       "109.2%      1\n",
       "153%        1\n",
       "119.4%      1\n",
       "177.7%      1\n",
       "113.3%      1\n",
       "107.5%      1\n",
       "127%        1\n",
       "116.1%      1\n",
       "123%        1\n",
       "152.7%      1\n",
       "117.2%      1\n",
       "106%        1\n",
       "104%        1\n",
       "119.8%      1\n",
       "118.2%      1\n",
       "106.7%      1\n",
       "108.9%      1\n",
       "141.8%      1\n",
       "129.4%      1\n",
       "892.3%      1\n",
       "113.6%      1\n",
       "116.8%      1\n",
       "112.2%      1\n",
       "123.9%      1\n",
       "117.5%      1\n",
       "111.9%      1\n",
       "114.5%      1\n",
       "Name: revolutil, Length: 1160, dtype: int64"
      ]
     },
     "execution_count": 54,
     "metadata": {},
     "output_type": "execute_result"
    }
   ],
   "source": [
    "i = 2\n",
    "feat = ob_feature[i]\n",
    "print(feat)\n",
    "print(df[feat].isnull().sum())\n",
    "df[feat].value_counts()"
   ]
  },
  {
   "cell_type": "code",
   "execution_count": 55,
   "metadata": {},
   "outputs": [
    {
     "name": "stdout",
     "output_type": "stream",
     "text": [
      "id\n",
      "235629\n"
     ]
    },
    {
     "data": {
      "text/plain": [
       "Total amount funded in policy code 1: 3503840175    1\n",
       "Total amount funded in policy code 2: 873652739     1\n",
       "Name: id, dtype: int64"
      ]
     },
     "execution_count": 55,
     "metadata": {},
     "output_type": "execute_result"
    }
   ],
   "source": [
    "i = 15\n",
    "feat = ob_feature[i]\n",
    "print(feat)\n",
    "print(df[feat].isnull().sum())\n",
    "df[feat].value_counts()"
   ]
  },
  {
   "cell_type": "code",
   "execution_count": 57,
   "metadata": {},
   "outputs": [
    {
     "name": "stdout",
     "output_type": "stream",
     "text": [
      "zipcode\n",
      "2\n",
      "866\n",
      "750xx    2546\n",
      "945xx    2418\n",
      "112xx    2382\n",
      "606xx    2273\n",
      "300xx    2085\n",
      "Name: zipcode, dtype: int64\n"
     ]
    },
    {
     "data": {
      "text/plain": [
       "854xx    1\n",
       "861xx    1\n",
       "833xx    1\n",
       "093xx    1\n",
       "510xx    1\n",
       "Name: zipcode, dtype: int64"
      ]
     },
     "execution_count": 57,
     "metadata": {},
     "output_type": "execute_result"
    }
   ],
   "source": [
    "# only keep first 3 digits, 866 values, use frequency and leave on out encoding\n",
    "\n",
    "i = 13\n",
    "feat = ob_feature[i]\n",
    "print(feat)\n",
    "print(df[feat].isnull().sum())\n",
    "print(len(df[feat].value_counts()))\n",
    "print(df[feat].value_counts()[:5])\n",
    "df[feat].value_counts()[-5:]"
   ]
  },
  {
   "cell_type": "code",
   "execution_count": 58,
   "metadata": {},
   "outputs": [
    {
     "name": "stdout",
     "output_type": "stream",
     "text": [
      "verificationstatus\n",
      "2\n"
     ]
    },
    {
     "data": {
      "text/plain": [
       "Source Verified    97741\n",
       "Not Verified       70659\n",
       "Verified           67229\n",
       "Name: verificationstatus, dtype: int64"
      ]
     },
     "execution_count": 58,
     "metadata": {},
     "output_type": "execute_result"
    }
   ],
   "source": [
    "i = 7\n",
    "feat = ob_feature[i]\n",
    "print(feat)\n",
    "print(df[feat].isnull().sum())\n",
    "df[feat].value_counts()"
   ]
  },
  {
   "cell_type": "code",
   "execution_count": 59,
   "metadata": {},
   "outputs": [
    {
     "name": "stdout",
     "output_type": "stream",
     "text": [
      "emptitle\n",
      "13238\n"
     ]
    },
    {
     "data": {
      "text/plain": [
       "Teacher                                     4569\n",
       "Manager                                     3772\n",
       "Registered Nurse                            1960\n",
       "RN                                          1816\n",
       "Supervisor                                  1663\n",
       "Owner                                       1512\n",
       "Sales                                       1406\n",
       "Project Manager                             1368\n",
       "Office Manager                              1185\n",
       "manager                                     1115\n",
       "Driver                                      1111\n",
       "General Manager                             1055\n",
       "teacher                                     1028\n",
       "Director                                    1000\n",
       "Engineer                                     870\n",
       "President                                    852\n",
       "owner                                        850\n",
       "Vice President                               827\n",
       "driver                                       822\n",
       "Attorney                                     708\n",
       "Administrative Assistant                     706\n",
       "Operations Manager                           699\n",
       "Accountant                                   663\n",
       "supervisor                                   653\n",
       "Police Officer                               627\n",
       "sales                                        613\n",
       "Sales Manager                                592\n",
       "Account Manager                              566\n",
       "Executive Assistant                          564\n",
       "Store Manager                                562\n",
       "                                            ... \n",
       "Tax Technician                                 1\n",
       "Paralega                                       1\n",
       "International Accounting Manager               1\n",
       "Region office coordinator                      1\n",
       "Sr. Client Management Consultant               1\n",
       "Mantenance Machinist                           1\n",
       "DSL Technician                                 1\n",
       "VP Sales/Marketing                             1\n",
       "F16 specialist technician                      1\n",
       "Sr Compliance Advisor/Legal Specialist         1\n",
       "Caseworker III                                 1\n",
       "Health Services                                1\n",
       "engineering leader                             1\n",
       "app integration spec.                          1\n",
       "Underwriting Assistant II                      1\n",
       "Airplane IFE Technician                        1\n",
       "Corporate Asst Radiation Safety Officer        1\n",
       "Ordinary Seaman class - 3                      1\n",
       "Mobile Products Manager                        1\n",
       "Regional Director of Business office Ser       1\n",
       "Compliance and Licensing                       1\n",
       "Community liason                               1\n",
       "Hair Interlink Specialist                      1\n",
       "IT Manager/ Sales / Tradeshow Coordinato       1\n",
       "Facility Operations Manager                    1\n",
       "Computer Aided Engineering                     1\n",
       "Sr. Construction operator                      1\n",
       "Pro Sales                                      1\n",
       "director if maintenance                        1\n",
       "QA Reciepts Auditor                            1\n",
       "Name: emptitle, Length: 75352, dtype: int64"
      ]
     },
     "execution_count": 59,
     "metadata": {},
     "output_type": "execute_result"
    }
   ],
   "source": [
    "# has 13238 NAs, can do frequency and simple NLP\n",
    "\n",
    "i = 16\n",
    "feat = ob_feature[i]\n",
    "print(feat)\n",
    "print(df[feat].isnull().sum())\n",
    "df[feat].value_counts()"
   ]
  },
  {
   "cell_type": "code",
   "execution_count": 60,
   "metadata": {},
   "outputs": [
    {
     "name": "stdout",
     "output_type": "stream",
     "text": [
      "emplength\n",
      "12021\n"
     ]
    },
    {
     "data": {
      "text/plain": [
       "10+ years    79505\n",
       "2 years      20487\n",
       "3 years      18267\n",
       "< 1 year     17982\n",
       "1 year       14593\n",
       "4 years      13528\n",
       "7 years      13099\n",
       "5 years      13051\n",
       "8 years      11853\n",
       "6 years      11821\n",
       "9 years       9424\n",
       "Name: emplength, dtype: int64"
      ]
     },
     "execution_count": 60,
     "metadata": {},
     "output_type": "execute_result"
    }
   ],
   "source": [
    "# 12 values, n/a, <1 year, 1~9 year(s), 10+ years, convert to num\n",
    "\n",
    "i = 8\n",
    "feat = ob_feature[i]\n",
    "print(feat)\n",
    "print(df[feat].isnull().sum())\n",
    "df[feat].value_counts()"
   ]
  },
  {
   "cell_type": "code",
   "execution_count": 63,
   "metadata": {},
   "outputs": [
    {
     "name": "stdout",
     "output_type": "stream",
     "text": [
      "purpose\n",
      "2\n"
     ]
    },
    {
     "data": {
      "text/plain": [
       "debt_consolidation    143006\n",
       "credit_card            55522\n",
       "home_improvement       13045\n",
       "other                  10371\n",
       "major_purchase          3858\n",
       "medical                 2331\n",
       "small_business          2277\n",
       "car                     1832\n",
       "moving                  1328\n",
       "vacation                1178\n",
       "house                    750\n",
       "renewable_energy         123\n",
       "wedding                    8\n",
       "Name: purpose, dtype: int64"
      ]
     },
     "execution_count": 63,
     "metadata": {},
     "output_type": "execute_result"
    }
   ],
   "source": [
    "i = 10\n",
    "feat = ob_feature[i]\n",
    "print(feat)\n",
    "print(df[feat].isnull().sum())\n",
    "df[feat].value_counts()"
   ]
  },
  {
   "cell_type": "code",
   "execution_count": 64,
   "metadata": {},
   "outputs": [
    {
     "name": "stdout",
     "output_type": "stream",
     "text": [
      "issued\n",
      "2\n"
     ]
    },
    {
     "data": {
      "text/plain": [
       "Oct-2014    38783\n",
       "Jul-2014    29306\n",
       "Nov-2014    25054\n",
       "May-2014    19099\n",
       "Apr-2014    19071\n",
       "Aug-2014    18814\n",
       "Jun-2014    17179\n",
       "Mar-2014    16513\n",
       "Jan-2014    15628\n",
       "Feb-2014    15269\n",
       "Sep-2014    10606\n",
       "Dec-2014    10307\n",
       "Name: issued, dtype: int64"
      ]
     },
     "execution_count": 64,
     "metadata": {},
     "output_type": "execute_result"
    }
   ],
   "source": [
    "i = 18\n",
    "feat = ob_feature[i]\n",
    "print(feat)\n",
    "print(df[feat].isnull().sum())\n",
    "df[feat].value_counts()"
   ]
  },
  {
   "cell_type": "code",
   "execution_count": 65,
   "metadata": {},
   "outputs": [
    {
     "name": "stdout",
     "output_type": "stream",
     "text": [
      "loanstatus\n",
      "2\n"
     ]
    },
    {
     "data": {
      "text/plain": [
       "Fully Paid            172687\n",
       "Charged Off            39220\n",
       "Current                22321\n",
       "Late (31-120 days)       744\n",
       "In Grace Period          506\n",
       "Late (16-30 days)        150\n",
       "Default                    1\n",
       "Name: loanstatus, dtype: int64"
      ]
     },
     "execution_count": 65,
     "metadata": {},
     "output_type": "execute_result"
    }
   ],
   "source": [
    "i = 19\n",
    "feat = ob_feature[i]\n",
    "print(feat)\n",
    "print(df[feat].isnull().sum())\n",
    "df[feat].value_counts()"
   ]
  },
  {
   "cell_type": "code",
   "execution_count": 66,
   "metadata": {},
   "outputs": [
    {
     "name": "stdout",
     "output_type": "stream",
     "text": [
      "disbursementmethod\n",
      "2\n"
     ]
    },
    {
     "data": {
      "text/plain": [
       "Cash    235629\n",
       "Name: disbursementmethod, dtype: int64"
      ]
     },
     "execution_count": 66,
     "metadata": {},
     "output_type": "execute_result"
    }
   ],
   "source": [
    "i = 3\n",
    "feat = ob_feature[i]\n",
    "print(feat)\n",
    "print(df[feat].isnull().sum())\n",
    "df[feat].value_counts()"
   ]
  },
  {
   "cell_type": "code",
   "execution_count": 42,
   "metadata": {},
   "outputs": [
    {
     "name": "stdout",
     "output_type": "stream",
     "text": [
      "0 applicationtype\n",
      "1 initialliststatus\n",
      "2 revolutil\n",
      "3 disbursementmethod\n",
      "4 earliestcrline\n",
      "5 subgrade\n",
      "6 term\n",
      "7 verificationstatus\n",
      "8 emplength\n",
      "9 grade\n",
      "10 purpose\n",
      "11 desc\n",
      "12 homeownership\n",
      "13 zipcode\n",
      "14 intrate\n",
      "15 id\n",
      "16 emptitle\n",
      "17 addrstate\n",
      "18 issued\n",
      "19 loanstatus\n"
     ]
    }
   ],
   "source": []
  },
  {
   "cell_type": "code",
   "execution_count": 83,
   "metadata": {},
   "outputs": [
    {
     "data": {
      "text/plain": [
       "<matplotlib.axes._subplots.AxesSubplot at 0x118efbc18>"
      ]
     },
     "execution_count": 83,
     "metadata": {},
     "output_type": "execute_result"
    },
    {
     "data": {
      "image/png": "[encoded data removed]",
      "text/plain": [
       "<Figure size 432x288 with 1 Axes>"
      ]
     },
     "metadata": {},
     "output_type": "display_data"
    }
   ],
   "source": [
    "df.ratio=df.fundedamnt/df.loanamnt.astype(float)\n",
    "df.ratio.hist(bins=100)"
   ]
  },
  {
   "cell_type": "code",
   "execution_count": 81,
   "metadata": {},
   "outputs": [
    {
     "data": {
      "text/html": [
       "<div>\n",
       "<style scoped>\n",
       "    .dataframe tbody tr th:only-of-type {\n",
       "        vertical-align: middle;\n",
       "    }\n",
       "\n",
       "    .dataframe tbody tr th {\n",
       "        vertical-align: top;\n",
       "    }\n",
       "\n",
       "    .dataframe thead th {\n",
       "        text-align: right;\n",
       "    }\n",
       "</style>\n",
       "<table border=\"1\" class=\"dataframe\">\n",
       "  <thead>\n",
       "    <tr style=\"text-align: right;\">\n",
       "      <th></th>\n",
       "      <th>chargeoffwithin12mths</th>\n",
       "      <th>applicationtype</th>\n",
       "    </tr>\n",
       "  </thead>\n",
       "  <tbody>\n",
       "    <tr>\n",
       "      <th>0</th>\n",
       "      <td>15000.0</td>\n",
       "      <td>15000.0</td>\n",
       "    </tr>\n",
       "    <tr>\n",
       "      <th>1</th>\n",
       "      <td>10400.0</td>\n",
       "      <td>10400.0</td>\n",
       "    </tr>\n",
       "    <tr>\n",
       "      <th>2</th>\n",
       "      <td>12800.0</td>\n",
       "      <td>12800.0</td>\n",
       "    </tr>\n",
       "    <tr>\n",
       "      <th>3</th>\n",
       "      <td>21425.0</td>\n",
       "      <td>21425.0</td>\n",
       "    </tr>\n",
       "    <tr>\n",
       "      <th>4</th>\n",
       "      <td>7650.0</td>\n",
       "      <td>7650.0</td>\n",
       "    </tr>\n",
       "    <tr>\n",
       "      <th>5</th>\n",
       "      <td>9600.0</td>\n",
       "      <td>9600.0</td>\n",
       "    </tr>\n",
       "    <tr>\n",
       "      <th>6</th>\n",
       "      <td>17000.0</td>\n",
       "      <td>17000.0</td>\n",
       "    </tr>\n",
       "    <tr>\n",
       "      <th>7</th>\n",
       "      <td>21075.0</td>\n",
       "      <td>21075.0</td>\n",
       "    </tr>\n",
       "    <tr>\n",
       "      <th>8</th>\n",
       "      <td>12975.0</td>\n",
       "      <td>12975.0</td>\n",
       "    </tr>\n",
       "    <tr>\n",
       "      <th>9</th>\n",
       "      <td>5250.0</td>\n",
       "      <td>5250.0</td>\n",
       "    </tr>\n",
       "  </tbody>\n",
       "</table>\n",
       "</div>"
      ],
      "text/plain": [
       "   chargeoffwithin12mths  applicationtype\n",
       "0                15000.0          15000.0\n",
       "1                10400.0          10400.0\n",
       "2                12800.0          12800.0\n",
       "3                21425.0          21425.0\n",
       "4                 7650.0           7650.0\n",
       "5                 9600.0           9600.0\n",
       "6                17000.0          17000.0\n",
       "7                21075.0          21075.0\n",
       "8                12975.0          12975.0\n",
       "9                 5250.0           5250.0"
      ]
     },
     "execution_count": 81,
     "metadata": {},
     "output_type": "execute_result"
    }
   ],
   "source": [
    "df[['fundedamnt','loanamnt']][:10]"
   ]
  },
  {
   "cell_type": "code",
   "execution_count": 84,
   "metadata": {},
   "outputs": [
    {
     "data": {
      "text/plain": [
       "<matplotlib.axes._subplots.AxesSubplot at 0x1194a69b0>"
      ]
     },
     "execution_count": 84,
     "metadata": {},
     "output_type": "execute_result"
    },
    {
     "data": {
      "image/png": "[encoded data removed]",
      "text/plain": [
       "<Figure size 432x288 with 1 Axes>"
      ]
     },
     "metadata": {},
     "output_type": "display_data"
    }
   ],
   "source": [
    "df.installment.hist(bins=100)"
   ]
  },
  {
   "cell_type": "code",
   "execution_count": 87,
   "metadata": {},
   "outputs": [],
   "source": [
    "df = df.query(\"loanstatus == 'Fully Paid' or loanstatus == 'Charged Off' \")\n",
    "df['loanstatus'] = df.loanstatus.map({\"Charged Off\": 1, \"Fully Paid\": 0})"
   ]
  },
  {
   "cell_type": "code",
   "execution_count": 88,
   "metadata": {},
   "outputs": [],
   "source": [
    "dummy_list = [\"emplength\", \"verificationstatus\", \"delinq2yrs\", \"addrstate\", 'homeownership', \"grade\", \"subgrade\", \"openacc\"]"
   ]
  },
  {
   "cell_type": "code",
   "execution_count": 99,
   "metadata": {},
   "outputs": [
    {
     "data": {
      "text/plain": [
       "<matplotlib.axes._subplots.AxesSubplot at 0x1153c9f98>"
      ]
     },
     "execution_count": 99,
     "metadata": {},
     "output_type": "execute_result"
    },
    {
     "data": {
      "image/png": "[encoded data removed]",
      "text/plain": [
       "<Figure size 432x288 with 1 Axes>"
      ]
     },
     "metadata": {},
     "output_type": "display_data"
    }
   ],
   "source": [
    "# why verified incomes gives higher default rates?\n",
    "\n",
    "sns.barplot(x=dummy_list[1], y='loanstatus', data=df)"
   ]
  },
  {
   "cell_type": "code",
   "execution_count": 95,
   "metadata": {},
   "outputs": [
    {
     "data": {
      "text/plain": [
       "<matplotlib.axes._subplots.AxesSubplot at 0x115a567f0>"
      ]
     },
     "execution_count": 95,
     "metadata": {},
     "output_type": "execute_result"
    },
    {
     "data": {
      "image/png": "[encoded data removed]",
      "text/plain": [
       "<Figure size 720x360 with 1 Axes>"
      ]
     },
     "metadata": {},
     "output_type": "display_data"
    }
   ],
   "source": [
    "plt.subplots(figsize=(10,5))\n",
    "sns.barplot(x=dummy_list[2], y='loanstatus', data=df)"
   ]
  },
  {
   "cell_type": "code",
   "execution_count": 98,
   "metadata": {},
   "outputs": [
    {
     "data": {
      "text/plain": [
       "<matplotlib.axes._subplots.AxesSubplot at 0x1132e9710>"
      ]
     },
     "execution_count": 98,
     "metadata": {},
     "output_type": "execute_result"
    },
    {
     "data": {
      "image/png": "[encoded data removed]",
      "text/plain": [
       "<Figure size 1440x360 with 1 Axes>"
      ]
     },
     "metadata": {},
     "output_type": "display_data"
    }
   ],
   "source": [
    "plt.subplots(figsize=(20,5))\n",
    "sns.barplot(x=dummy_list[3], y='loanstatus', data=df)"
   ]
  },
  {
   "cell_type": "code",
   "execution_count": 100,
   "metadata": {},
   "outputs": [
    {
     "data": {
      "text/plain": [
       "<matplotlib.axes._subplots.AxesSubplot at 0x11332bda0>"
      ]
     },
     "execution_count": 100,
     "metadata": {},
     "output_type": "execute_result"
    },
    {
     "data": {
      "image/png": "[encoded data removed]",
      "text/plain": [
       "<Figure size 432x288 with 1 Axes>"
      ]
     },
     "metadata": {},
     "output_type": "display_data"
    }
   ],
   "source": [
    "sns.barplot(x=dummy_list[4], y='loanstatus', data=df)"
   ]
  },
  {
   "cell_type": "code",
   "execution_count": 101,
   "metadata": {},
   "outputs": [
    {
     "data": {
      "text/plain": [
       "<matplotlib.axes._subplots.AxesSubplot at 0x114df9390>"
      ]
     },
     "execution_count": 101,
     "metadata": {},
     "output_type": "execute_result"
    },
    {
     "data": {
      "image/png": "[encoded data removed]",
      "text/plain": [
       "<Figure size 432x288 with 1 Axes>"
      ]
     },
     "metadata": {},
     "output_type": "display_data"
    }
   ],
   "source": [
    "sns.barplot(x=dummy_list[5], y='loanstatus', data=df, order = ['A', 'B', 'C', 'D', 'E', 'F', 'G'])"
   ]
  },
  {
   "cell_type": "code",
   "execution_count": 102,
   "metadata": {},
   "outputs": [
    {
     "data": {
      "text/plain": [
       "array(['A1', 'A2', 'A3', 'A4', 'A5', 'B1', 'B2', 'B3', 'B4', 'B5', 'C1',\n",
       "       'C2', 'C3', 'C4', 'C5', 'D1', 'D2', 'D3', 'D4', 'D5', 'E1', 'E2',\n",
       "       'E3', 'E4', 'E5', 'F1', 'F2', 'F3', 'F4', 'F5', 'G1', 'G2', 'G3',\n",
       "       'G4', 'G5'], dtype=object)"
      ]
     },
     "execution_count": 102,
     "metadata": {},
     "output_type": "execute_result"
    }
   ],
   "source": [
    "np.sort(df.subgrade.unique())"
   ]
  },
  {
   "cell_type": "code",
   "execution_count": 103,
   "metadata": {},
   "outputs": [
    {
     "data": {
      "text/plain": [
       "<matplotlib.axes._subplots.AxesSubplot at 0x1162fb630>"
      ]
     },
     "execution_count": 103,
     "metadata": {},
     "output_type": "execute_result"
    },
    {
     "data": {
      "image/png": "[encoded data removed]",
      "text/plain": [
       "<Figure size 1440x360 with 1 Axes>"
      ]
     },
     "metadata": {},
     "output_type": "display_data"
    }
   ],
   "source": [
    "plt.subplots(figsize=(20,5))\n",
    "sns.barplot(x=dummy_list[6], y='loanstatus', data=df, order = np.sort(df.subgrade.unique()))"
   ]
  },
  {
   "cell_type": "code",
   "execution_count": 110,
   "metadata": {},
   "outputs": [],
   "source": [
    "def countinuous_variable_plot(feat_name):\n",
    "    sns.set_style(\"whitegrid\", {'axes.edgecolor': '0'})\n",
    "    factor = pd.qcut(df[feat_name], 5, labels = False) # group the data act on groups                                                               #seperately\n",
    "    table = df.groupby([factor, 'loanstatus']).size() # get group size counts, hashed by the two variables\n",
    "    table = table.unstack('loanstatus') # split the data into 2 columns, 0, 1, each indexed by the\n",
    "    normedtable = table.div(table.sum(1), axis=0) # divide the counts by the totals\n",
    "    \n",
    "    fig, ax = plt.subplots(1, 1, figsize=(10, 5))\n",
    "    normedtable.iloc[:, 1].plot(kind = 'bar', alpha=0.9, color =\"#FD2C10\", ax = ax )\n",
    "    ax.set_xlabel(\"%s percentile\" % feat_name , fontsize = 20)\n",
    "    ax.set_ylabel('Default Rate', fontsize = 20)\n",
    "    \n",
    "    x = range(5)\n",
    "    labels = ['20%tile', '40%tile', '60%tile', '80%tile', '100%tile']\n",
    "    plt.xticks(x, labels, rotation='0', fontsize = 18)\n",
    "    sns.despine()\n",
    "    ax.set_title(\"Loan Performance with respect to %s\" % feat_name )\n",
    "#     fig.savefig('age.png')"
   ]
  },
  {
   "cell_type": "code",
   "execution_count": 111,
   "metadata": {},
   "outputs": [
    {
     "data": {
      "image/png": "[encoded data removed]",
      "text/plain": [
       "<Figure size 720x360 with 1 Axes>"
      ]
     },
     "metadata": {},
     "output_type": "display_data"
    }
   ],
   "source": [
    "countinuous_variable_plot('annualinc')"
   ]
  },
  {
   "cell_type": "code",
   "execution_count": 112,
   "metadata": {},
   "outputs": [
    {
     "data": {
      "image/png": "[encoded data removed]",
      "text/plain": [
       "<Figure size 720x360 with 1 Axes>"
      ]
     },
     "metadata": {},
     "output_type": "display_data"
    }
   ],
   "source": [
    "countinuous_variable_plot('dti')"
   ]
  },
  {
   "cell_type": "code",
   "execution_count": 113,
   "metadata": {},
   "outputs": [
    {
     "data": {
      "image/png": "[encoded data removed]",
      "text/plain": [
       "<Figure size 720x360 with 1 Axes>"
      ]
     },
     "metadata": {},
     "output_type": "display_data"
    }
   ],
   "source": [
    "countinuous_variable_plot('revolbal')"
   ]
  },
  {
   "cell_type": "code",
   "execution_count": 114,
   "metadata": {},
   "outputs": [
    {
     "data": {
      "image/png": "[encoded data removed]",
      "text/plain": [
       "<Figure size 720x360 with 1 Axes>"
      ]
     },
     "metadata": {},
     "output_type": "display_data"
    }
   ],
   "source": [
    "countinuous_variable_plot('tothicredlim')"
   ]
  },
  {
   "cell_type": "code",
   "execution_count": 115,
   "metadata": {},
   "outputs": [
    {
     "data": {
      "image/png": "[encoded data removed]",
      "text/plain": [
       "<Figure size 720x360 with 1 Axes>"
      ]
     },
     "metadata": {},
     "output_type": "display_data"
    }
   ],
   "source": [
    "countinuous_variable_plot('totalbalexmort')"
   ]
  },
  {
   "cell_type": "code",
   "execution_count": 116,
   "metadata": {},
   "outputs": [
    {
     "data": {
      "image/png": "[encoded data removed]",
      "text/plain": [
       "<Figure size 720x360 with 1 Axes>"
      ]
     },
     "metadata": {},
     "output_type": "display_data"
    }
   ],
   "source": [
    "countinuous_variable_plot('totalbclimit')"
   ]
  },
  {
   "cell_type": "code",
   "execution_count": 117,
   "metadata": {},
   "outputs": [
    {
     "data": {
      "image/png": "[encoded data removed]",
      "text/plain": [
       "<Figure size 720x360 with 1 Axes>"
      ]
     },
     "metadata": {},
     "output_type": "display_data"
    }
   ],
   "source": [
    "countinuous_variable_plot('totalilhighcreditlimit')"
   ]
  },
  {
   "cell_type": "code",
   "execution_count": null,
   "metadata": {},
   "outputs": [],
   "source": []
  }
 ],
 "metadata": {
  "kernelspec": {
   "display_name": "Python 3",
   "language": "python",
   "name": "python3"
  },
  "language_info": {
   "codemirror_mode": {
    "name": "ipython",
    "version": 3
   },
   "file_extension": ".py",
   "mimetype": "text/x-python",
   "name": "python",
   "nbconvert_exporter": "python",
   "pygments_lexer": "ipython3",
   "version": "3.6.5"
  }
 },
 "nbformat": 4,
 "nbformat_minor": 2
}
